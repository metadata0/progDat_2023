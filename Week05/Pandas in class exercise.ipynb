{
 "cells": [
  {
   "cell_type": "code",
   "execution_count": 1,
   "id": "e5367aa3",
   "metadata": {},
   "outputs": [],
   "source": [
    "import pandas as pd"
   ]
  },
  {
   "cell_type": "code",
   "execution_count": 2,
   "id": "ec65ecd9",
   "metadata": {},
   "outputs": [],
   "source": [
    "%matplotlib inline\n",
    "import matplotlib.pyplot as plt\n",
    "plt.style.use('ggplot')\n",
    "plt.rcParams['figure.figsize'] = (10, 4)"
   ]
  },
  {
   "cell_type": "markdown",
   "id": "dd9d3293",
   "metadata": {},
   "source": [
    "seaborn, plotly <- new kids on the block\n",
    "matplotlib <- old faithful standard thing that everyone uses"
   ]
  },
  {
   "cell_type": "markdown",
   "id": "153e3c69",
   "metadata": {},
   "source": [
    "DataFrame! \n",
    "\n",
    "## Series"
   ]
  },
  {
   "cell_type": "code",
   "execution_count": 3,
   "id": "bb47d9b8",
   "metadata": {},
   "outputs": [],
   "source": [
    "s = pd.Series([4, 5, 6, 12, 22, 64, 30, 7, 19])"
   ]
  },
  {
   "cell_type": "code",
   "execution_count": 4,
   "id": "46be7544",
   "metadata": {},
   "outputs": [
    {
     "data": {
      "text/plain": [
       "0     4\n",
       "1     5\n",
       "2     6\n",
       "3    12\n",
       "4    22\n",
       "5    64\n",
       "6    30\n",
       "7     7\n",
       "8    19\n",
       "dtype: int64"
      ]
     },
     "execution_count": 4,
     "metadata": {},
     "output_type": "execute_result"
    }
   ],
   "source": [
    "s"
   ]
  },
  {
   "cell_type": "code",
   "execution_count": 5,
   "id": "4c2f01cb",
   "metadata": {},
   "outputs": [
    {
     "data": {
      "text/plain": [
       "0     2.0\n",
       "1     2.5\n",
       "2     3.0\n",
       "3     6.0\n",
       "4    11.0\n",
       "5    32.0\n",
       "6    15.0\n",
       "7     3.5\n",
       "8     9.5\n",
       "dtype: float64"
      ]
     },
     "execution_count": 5,
     "metadata": {},
     "output_type": "execute_result"
    }
   ],
   "source": [
    "s * 0.5"
   ]
  },
  {
   "cell_type": "code",
   "execution_count": 6,
   "id": "2957f867",
   "metadata": {},
   "outputs": [],
   "source": [
    "python_normal_list = [1, 2, 3, 4, 10, 11, 12]"
   ]
  },
  {
   "cell_type": "code",
   "execution_count": 7,
   "id": "0af60185",
   "metadata": {},
   "outputs": [
    {
     "data": {
      "text/plain": [
       "[1, 2, 3, 4, 10, 11, 12, 1, 2, 3, 4, 10, 11, 12]"
      ]
     },
     "execution_count": 7,
     "metadata": {},
     "output_type": "execute_result"
    }
   ],
   "source": [
    "python_normal_list * 2"
   ]
  },
  {
   "cell_type": "markdown",
   "id": "98d59617",
   "metadata": {},
   "source": [
    "using normal python lists would not inteprete each data item's mathematical properties\n",
    "easy to perform arithmetics "
   ]
  },
  {
   "cell_type": "code",
   "execution_count": 8,
   "id": "d4656560",
   "metadata": {},
   "outputs": [
    {
     "data": {
      "text/plain": [
       "4"
      ]
     },
     "execution_count": 8,
     "metadata": {},
     "output_type": "execute_result"
    }
   ],
   "source": [
    "s.min()"
   ]
  },
  {
   "cell_type": "code",
   "execution_count": 9,
   "id": "610660f6",
   "metadata": {},
   "outputs": [
    {
     "data": {
      "text/plain": [
       "64"
      ]
     },
     "execution_count": 9,
     "metadata": {},
     "output_type": "execute_result"
    }
   ],
   "source": [
    "s.max()"
   ]
  },
  {
   "cell_type": "code",
   "execution_count": 10,
   "id": "deb57708",
   "metadata": {},
   "outputs": [
    {
     "data": {
      "text/plain": [
       "18.77777777777778"
      ]
     },
     "execution_count": 10,
     "metadata": {},
     "output_type": "execute_result"
    }
   ],
   "source": [
    "s.mean()"
   ]
  },
  {
   "cell_type": "code",
   "execution_count": 11,
   "id": "0f4a61a0",
   "metadata": {},
   "outputs": [
    {
     "data": {
      "text/plain": [
       "12.0"
      ]
     },
     "execution_count": 11,
     "metadata": {},
     "output_type": "execute_result"
    }
   ],
   "source": [
    "s.median()"
   ]
  },
  {
   "cell_type": "code",
   "execution_count": 12,
   "id": "dfbaf660",
   "metadata": {},
   "outputs": [
    {
     "data": {
      "text/plain": [
       "0     4\n",
       "1     5\n",
       "2     6\n",
       "3     7\n",
       "4    12\n",
       "5    19\n",
       "6    22\n",
       "7    30\n",
       "8    64\n",
       "dtype: int64"
      ]
     },
     "execution_count": 12,
     "metadata": {},
     "output_type": "execute_result"
    }
   ],
   "source": [
    "s.mode()"
   ]
  },
  {
   "cell_type": "code",
   "execution_count": 13,
   "id": "f1a3639f",
   "metadata": {},
   "outputs": [
    {
     "data": {
      "text/plain": [
       "count     9.000000\n",
       "mean     18.777778\n",
       "std      19.162318\n",
       "min       4.000000\n",
       "25%       6.000000\n",
       "50%      12.000000\n",
       "75%      22.000000\n",
       "max      64.000000\n",
       "dtype: float64"
      ]
     },
     "execution_count": 13,
     "metadata": {},
     "output_type": "execute_result"
    }
   ],
   "source": [
    "s.describe()"
   ]
  },
  {
   "cell_type": "code",
   "execution_count": 17,
   "id": "c545fd6a",
   "metadata": {},
   "outputs": [
    {
     "data": {
      "text/plain": [
       "<Axes: >"
      ]
     },
     "execution_count": 17,
     "metadata": {},
     "output_type": "execute_result"
    },
    {
     "data": {
      "image/png": "[encoded data removed]",
      "text/plain": [
       "<Figure size 1000x400 with 1 Axes>"
      ]
     },
     "metadata": {},
     "output_type": "display_data"
    }
   ],
   "source": [
    "s.plot()"
   ]
  },
  {
   "cell_type": "code",
   "execution_count": 19,
   "id": "649c0129",
   "metadata": {
    "scrolled": true
   },
   "outputs": [
    {
     "data": {
      "text/plain": [
       "<Axes: >"
      ]
     },
     "execution_count": 19,
     "metadata": {},
     "output_type": "execute_result"
    },
    {
     "data": {
      "image/png": "[encoded data removed]",
      "text/plain": [
       "<Figure size 1000x400 with 1 Axes>"
      ]
     },
     "metadata": {},
     "output_type": "display_data"
    }
   ],
   "source": [
    "s.plot(kind=\"pie\")"
   ]
  },
  {
   "cell_type": "code",
   "execution_count": 20,
   "id": "2c93520e",
   "metadata": {},
   "outputs": [
    {
     "data": {
      "text/plain": [
       "<Axes: >"
      ]
     },
     "execution_count": 20,
     "metadata": {},
     "output_type": "execute_result"
    },
    {
     "data": {
      "image/png": "[encoded data removed]",
      "text/plain": [
       "<Figure size 1000x400 with 1 Axes>"
      ]
     },
     "metadata": {},
     "output_type": "display_data"
    }
   ],
   "source": [
    "s.plot(kind=\"bar\")"
   ]
  },
  {
   "cell_type": "code",
   "execution_count": 18,
   "id": "1de71e32",
   "metadata": {},
   "outputs": [
    {
     "data": {
      "text/plain": [
       "<Axes: >"
      ]
     },
     "execution_count": 18,
     "metadata": {},
     "output_type": "execute_result"
    },
    {
     "data": {
      "image/png": "[encoded data removed]",
      "text/plain": [
       "<Figure size 1000x400 with 1 Axes>"
      ]
     },
     "metadata": {},
     "output_type": "display_data"
    }
   ],
   "source": [
    "s.plot(kind=\"barh\")"
   ]
  },
  {
   "cell_type": "markdown",
   "id": "ec2064fd",
   "metadata": {},
   "source": [
    "## Series indicies don't have to be integers"
   ]
  },
  {
   "cell_type": "code",
   "execution_count": 21,
   "id": "51399fad",
   "metadata": {},
   "outputs": [
    {
     "data": {
      "text/plain": [
       "4"
      ]
     },
     "execution_count": 21,
     "metadata": {},
     "output_type": "execute_result"
    }
   ],
   "source": [
    "python_normal_list[3]"
   ]
  },
  {
   "cell_type": "code",
   "execution_count": 22,
   "id": "3a26fd87",
   "metadata": {},
   "outputs": [
    {
     "data": {
      "text/plain": [
       "0     4\n",
       "1     5\n",
       "2     6\n",
       "3    12\n",
       "4    22\n",
       "5    64\n",
       "6    30\n",
       "7     7\n",
       "8    19\n",
       "dtype: int64"
      ]
     },
     "execution_count": 22,
     "metadata": {},
     "output_type": "execute_result"
    }
   ],
   "source": [
    "s"
   ]
  },
  {
   "cell_type": "code",
   "execution_count": 23,
   "id": "c63b1dc3",
   "metadata": {},
   "outputs": [
    {
     "data": {
      "text/plain": [
       "12"
      ]
     },
     "execution_count": 23,
     "metadata": {},
     "output_type": "execute_result"
    }
   ],
   "source": [
    "s[3]"
   ]
  },
  {
   "cell_type": "code",
   "execution_count": 27,
   "id": "4dd47e40",
   "metadata": {},
   "outputs": [],
   "source": [
    "planet_moons = pd.Series(\n",
    "    [0, 0, 1, 2, 95, 146, 27, 14],\n",
    "    [\"Mercury\", \"Venus\", \"Earth\", \"Mars\", \"Jupiter\", \"Saturn\", \"Uranus\", \"Neptune\"]\n",
    ")"
   ]
  },
  {
   "cell_type": "code",
   "execution_count": 28,
   "id": "33651f77",
   "metadata": {
    "scrolled": true
   },
   "outputs": [
    {
     "data": {
      "text/plain": [
       "Mercury      0\n",
       "Venus        0\n",
       "Earth        1\n",
       "Mars         2\n",
       "Jupiter     95\n",
       "Saturn     146\n",
       "Uranus      27\n",
       "Neptune     14\n",
       "dtype: int64"
      ]
     },
     "execution_count": 28,
     "metadata": {},
     "output_type": "execute_result"
    }
   ],
   "source": [
    "planet_moons"
   ]
  },
  {
   "cell_type": "code",
   "execution_count": 30,
   "id": "68d3d6ba",
   "metadata": {},
   "outputs": [
    {
     "data": {
      "text/plain": [
       "35.625"
      ]
     },
     "execution_count": 30,
     "metadata": {},
     "output_type": "execute_result"
    }
   ],
   "source": [
    "planet_moons.mean()"
   ]
  },
  {
   "cell_type": "code",
   "execution_count": 31,
   "id": "70e754a8",
   "metadata": {},
   "outputs": [
    {
     "data": {
      "text/plain": [
       "<Axes: >"
      ]
     },
     "execution_count": 31,
     "metadata": {},
     "output_type": "execute_result"
    },
    {
     "data": {
      "image/png": "[encoded data removed]",
      "text/plain": [
       "<Figure size 1000x400 with 1 Axes>"
      ]
     },
     "metadata": {},
     "output_type": "display_data"
    }
   ],
   "source": [
    "planet_moons.plot(kind=\"barh\")"
   ]
  },
  {
   "cell_type": "code",
   "execution_count": 33,
   "id": "7245132b",
   "metadata": {},
   "outputs": [
    {
     "data": {
      "text/plain": [
       "0"
      ]
     },
     "execution_count": 33,
     "metadata": {},
     "output_type": "execute_result"
    }
   ],
   "source": [
    "planet_moons[0]"
   ]
  },
  {
   "cell_type": "markdown",
   "id": "56a2da0d",
   "metadata": {},
   "source": [
    "No index"
   ]
  },
  {
   "cell_type": "code",
   "execution_count": 35,
   "id": "1acb2234",
   "metadata": {},
   "outputs": [
    {
     "data": {
      "text/plain": [
       "95"
      ]
     },
     "execution_count": 35,
     "metadata": {},
     "output_type": "execute_result"
    }
   ],
   "source": [
    "planet_moons[\"Jupiter\"]"
   ]
  },
  {
   "cell_type": "code",
   "execution_count": 36,
   "id": "c418166d",
   "metadata": {},
   "outputs": [
    {
     "data": {
      "text/plain": [
       "Venus       0\n",
       "Earth       1\n",
       "Mars        2\n",
       "Jupiter    95\n",
       "dtype: int64"
      ]
     },
     "execution_count": 36,
     "metadata": {},
     "output_type": "execute_result"
    }
   ],
   "source": [
    "planet_moons[\"Venus\":\"Jupiter\"]"
   ]
  },
  {
   "cell_type": "code",
   "execution_count": 37,
   "id": "2b0f256b",
   "metadata": {},
   "outputs": [
    {
     "data": {
      "text/plain": [
       "95"
      ]
     },
     "execution_count": 37,
     "metadata": {},
     "output_type": "execute_result"
    }
   ],
   "source": [
    "planet_moons.iloc[4]"
   ]
  },
  {
   "cell_type": "markdown",
   "id": "c0420dd5",
   "metadata": {},
   "source": [
    "numerical indices can be assigned arbitrarily!"
   ]
  },
  {
   "cell_type": "code",
   "execution_count": 49,
   "id": "de430fb6",
   "metadata": {},
   "outputs": [],
   "source": [
    "t = pd.Series([\"Mercury\", \"Venus\", \"Earth\", \"Mars\"],\n",
    "             [10, 20, 79, 6])"
   ]
  },
  {
   "cell_type": "code",
   "execution_count": 50,
   "id": "ad98cde8",
   "metadata": {},
   "outputs": [
    {
     "data": {
      "text/plain": [
       "10    Mercury\n",
       "20      Venus\n",
       "79      Earth\n",
       "6        Mars\n",
       "dtype: object"
      ]
     },
     "execution_count": 50,
     "metadata": {},
     "output_type": "execute_result"
    }
   ],
   "source": [
    "t"
   ]
  },
  {
   "cell_type": "code",
   "execution_count": 39,
   "id": "ed939521",
   "metadata": {},
   "outputs": [
    {
     "data": {
      "text/plain": [
       "'Mercury'"
      ]
     },
     "execution_count": 39,
     "metadata": {},
     "output_type": "execute_result"
    }
   ],
   "source": [
    "t.iloc[0]"
   ]
  },
  {
   "cell_type": "code",
   "execution_count": 45,
   "id": "adde86a4",
   "metadata": {},
   "outputs": [
    {
     "data": {
      "text/plain": [
       "'Mercury'"
      ]
     },
     "execution_count": 45,
     "metadata": {},
     "output_type": "execute_result"
    }
   ],
   "source": [
    "t[10]"
   ]
  },
  {
   "cell_type": "code",
   "execution_count": 58,
   "id": "af9e8834",
   "metadata": {
    "scrolled": true
   },
   "outputs": [
    {
     "ename": "KeyError",
     "evalue": "\"None of [Index(['Mercury'], dtype='object')] are in the [index]\"",
     "output_type": "error",
     "traceback": [
      "\u001b[1;31m---------------------------------------------------------------------------\u001b[0m",
      "\u001b[1;31mKeyError\u001b[0m                                  Traceback (most recent call last)",
      "Cell \u001b[1;32mIn[58], line 1\u001b[0m\n\u001b[1;32m----> 1\u001b[0m t[ [\u001b[38;5;124m'\u001b[39m\u001b[38;5;124mMercury\u001b[39m\u001b[38;5;124m'\u001b[39m] ]\n",
      "File \u001b[1;32m~\\anaconda3\\Lib\\site-packages\\pandas\\core\\series.py:1007\u001b[0m, in \u001b[0;36mSeries.__getitem__\u001b[1;34m(self, key)\u001b[0m\n\u001b[0;32m   1004\u001b[0m     key \u001b[38;5;241m=\u001b[39m np\u001b[38;5;241m.\u001b[39masarray(key, dtype\u001b[38;5;241m=\u001b[39m\u001b[38;5;28mbool\u001b[39m)\n\u001b[0;32m   1005\u001b[0m     \u001b[38;5;28;01mreturn\u001b[39;00m \u001b[38;5;28mself\u001b[39m\u001b[38;5;241m.\u001b[39m_get_values(key)\n\u001b[1;32m-> 1007\u001b[0m \u001b[38;5;28;01mreturn\u001b[39;00m \u001b[38;5;28mself\u001b[39m\u001b[38;5;241m.\u001b[39m_get_with(key)\n",
      "File \u001b[1;32m~\\anaconda3\\Lib\\site-packages\\pandas\\core\\series.py:1047\u001b[0m, in \u001b[0;36mSeries._get_with\u001b[1;34m(self, key)\u001b[0m\n\u001b[0;32m   1044\u001b[0m         \u001b[38;5;28;01mreturn\u001b[39;00m \u001b[38;5;28mself\u001b[39m\u001b[38;5;241m.\u001b[39miloc[key]\n\u001b[0;32m   1046\u001b[0m \u001b[38;5;66;03m# handle the dup indexing case GH#4246\u001b[39;00m\n\u001b[1;32m-> 1047\u001b[0m \u001b[38;5;28;01mreturn\u001b[39;00m \u001b[38;5;28mself\u001b[39m\u001b[38;5;241m.\u001b[39mloc[key]\n",
      "File \u001b[1;32m~\\anaconda3\\Lib\\site-packages\\pandas\\core\\indexing.py:1073\u001b[0m, in \u001b[0;36m_LocationIndexer.__getitem__\u001b[1;34m(self, key)\u001b[0m\n\u001b[0;32m   1070\u001b[0m axis \u001b[38;5;241m=\u001b[39m \u001b[38;5;28mself\u001b[39m\u001b[38;5;241m.\u001b[39maxis \u001b[38;5;129;01mor\u001b[39;00m \u001b[38;5;241m0\u001b[39m\n\u001b[0;32m   1072\u001b[0m maybe_callable \u001b[38;5;241m=\u001b[39m com\u001b[38;5;241m.\u001b[39mapply_if_callable(key, \u001b[38;5;28mself\u001b[39m\u001b[38;5;241m.\u001b[39mobj)\n\u001b[1;32m-> 1073\u001b[0m \u001b[38;5;28;01mreturn\u001b[39;00m \u001b[38;5;28mself\u001b[39m\u001b[38;5;241m.\u001b[39m_getitem_axis(maybe_callable, axis\u001b[38;5;241m=\u001b[39maxis)\n",
      "File \u001b[1;32m~\\anaconda3\\Lib\\site-packages\\pandas\\core\\indexing.py:1301\u001b[0m, in \u001b[0;36m_LocIndexer._getitem_axis\u001b[1;34m(self, key, axis)\u001b[0m\n\u001b[0;32m   1298\u001b[0m     \u001b[38;5;28;01mif\u001b[39;00m \u001b[38;5;28mhasattr\u001b[39m(key, \u001b[38;5;124m\"\u001b[39m\u001b[38;5;124mndim\u001b[39m\u001b[38;5;124m\"\u001b[39m) \u001b[38;5;129;01mand\u001b[39;00m key\u001b[38;5;241m.\u001b[39mndim \u001b[38;5;241m>\u001b[39m \u001b[38;5;241m1\u001b[39m:\n\u001b[0;32m   1299\u001b[0m         \u001b[38;5;28;01mraise\u001b[39;00m \u001b[38;5;167;01mValueError\u001b[39;00m(\u001b[38;5;124m\"\u001b[39m\u001b[38;5;124mCannot index with multidimensional key\u001b[39m\u001b[38;5;124m\"\u001b[39m)\n\u001b[1;32m-> 1301\u001b[0m     \u001b[38;5;28;01mreturn\u001b[39;00m \u001b[38;5;28mself\u001b[39m\u001b[38;5;241m.\u001b[39m_getitem_iterable(key, axis\u001b[38;5;241m=\u001b[39maxis)\n\u001b[0;32m   1303\u001b[0m \u001b[38;5;66;03m# nested tuple slicing\u001b[39;00m\n\u001b[0;32m   1304\u001b[0m \u001b[38;5;28;01mif\u001b[39;00m is_nested_tuple(key, labels):\n",
      "File \u001b[1;32m~\\anaconda3\\Lib\\site-packages\\pandas\\core\\indexing.py:1239\u001b[0m, in \u001b[0;36m_LocIndexer._getitem_iterable\u001b[1;34m(self, key, axis)\u001b[0m\n\u001b[0;32m   1236\u001b[0m \u001b[38;5;28mself\u001b[39m\u001b[38;5;241m.\u001b[39m_validate_key(key, axis)\n\u001b[0;32m   1238\u001b[0m \u001b[38;5;66;03m# A collection of keys\u001b[39;00m\n\u001b[1;32m-> 1239\u001b[0m keyarr, indexer \u001b[38;5;241m=\u001b[39m \u001b[38;5;28mself\u001b[39m\u001b[38;5;241m.\u001b[39m_get_listlike_indexer(key, axis)\n\u001b[0;32m   1240\u001b[0m \u001b[38;5;28;01mreturn\u001b[39;00m \u001b[38;5;28mself\u001b[39m\u001b[38;5;241m.\u001b[39mobj\u001b[38;5;241m.\u001b[39m_reindex_with_indexers(\n\u001b[0;32m   1241\u001b[0m     {axis: [keyarr, indexer]}, copy\u001b[38;5;241m=\u001b[39m\u001b[38;5;28;01mTrue\u001b[39;00m, allow_dups\u001b[38;5;241m=\u001b[39m\u001b[38;5;28;01mTrue\u001b[39;00m\n\u001b[0;32m   1242\u001b[0m )\n",
      "File \u001b[1;32m~\\anaconda3\\Lib\\site-packages\\pandas\\core\\indexing.py:1432\u001b[0m, in \u001b[0;36m_LocIndexer._get_listlike_indexer\u001b[1;34m(self, key, axis)\u001b[0m\n\u001b[0;32m   1429\u001b[0m ax \u001b[38;5;241m=\u001b[39m \u001b[38;5;28mself\u001b[39m\u001b[38;5;241m.\u001b[39mobj\u001b[38;5;241m.\u001b[39m_get_axis(axis)\n\u001b[0;32m   1430\u001b[0m axis_name \u001b[38;5;241m=\u001b[39m \u001b[38;5;28mself\u001b[39m\u001b[38;5;241m.\u001b[39mobj\u001b[38;5;241m.\u001b[39m_get_axis_name(axis)\n\u001b[1;32m-> 1432\u001b[0m keyarr, indexer \u001b[38;5;241m=\u001b[39m ax\u001b[38;5;241m.\u001b[39m_get_indexer_strict(key, axis_name)\n\u001b[0;32m   1434\u001b[0m \u001b[38;5;28;01mreturn\u001b[39;00m keyarr, indexer\n",
      "File \u001b[1;32m~\\anaconda3\\Lib\\site-packages\\pandas\\core\\indexes\\base.py:6070\u001b[0m, in \u001b[0;36mIndex._get_indexer_strict\u001b[1;34m(self, key, axis_name)\u001b[0m\n\u001b[0;32m   6067\u001b[0m \u001b[38;5;28;01melse\u001b[39;00m:\n\u001b[0;32m   6068\u001b[0m     keyarr, indexer, new_indexer \u001b[38;5;241m=\u001b[39m \u001b[38;5;28mself\u001b[39m\u001b[38;5;241m.\u001b[39m_reindex_non_unique(keyarr)\n\u001b[1;32m-> 6070\u001b[0m \u001b[38;5;28mself\u001b[39m\u001b[38;5;241m.\u001b[39m_raise_if_missing(keyarr, indexer, axis_name)\n\u001b[0;32m   6072\u001b[0m keyarr \u001b[38;5;241m=\u001b[39m \u001b[38;5;28mself\u001b[39m\u001b[38;5;241m.\u001b[39mtake(indexer)\n\u001b[0;32m   6073\u001b[0m \u001b[38;5;28;01mif\u001b[39;00m \u001b[38;5;28misinstance\u001b[39m(key, Index):\n\u001b[0;32m   6074\u001b[0m     \u001b[38;5;66;03m# GH 42790 - Preserve name from an Index\u001b[39;00m\n",
      "File \u001b[1;32m~\\anaconda3\\Lib\\site-packages\\pandas\\core\\indexes\\base.py:6130\u001b[0m, in \u001b[0;36mIndex._raise_if_missing\u001b[1;34m(self, key, indexer, axis_name)\u001b[0m\n\u001b[0;32m   6128\u001b[0m     \u001b[38;5;28;01mif\u001b[39;00m use_interval_msg:\n\u001b[0;32m   6129\u001b[0m         key \u001b[38;5;241m=\u001b[39m \u001b[38;5;28mlist\u001b[39m(key)\n\u001b[1;32m-> 6130\u001b[0m     \u001b[38;5;28;01mraise\u001b[39;00m \u001b[38;5;167;01mKeyError\u001b[39;00m(\u001b[38;5;124mf\u001b[39m\u001b[38;5;124m\"\u001b[39m\u001b[38;5;124mNone of [\u001b[39m\u001b[38;5;132;01m{\u001b[39;00mkey\u001b[38;5;132;01m}\u001b[39;00m\u001b[38;5;124m] are in the [\u001b[39m\u001b[38;5;132;01m{\u001b[39;00maxis_name\u001b[38;5;132;01m}\u001b[39;00m\u001b[38;5;124m]\u001b[39m\u001b[38;5;124m\"\u001b[39m)\n\u001b[0;32m   6132\u001b[0m not_found \u001b[38;5;241m=\u001b[39m \u001b[38;5;28mlist\u001b[39m(ensure_index(key)[missing_mask\u001b[38;5;241m.\u001b[39mnonzero()[\u001b[38;5;241m0\u001b[39m]]\u001b[38;5;241m.\u001b[39munique())\n\u001b[0;32m   6133\u001b[0m \u001b[38;5;28;01mraise\u001b[39;00m \u001b[38;5;167;01mKeyError\u001b[39;00m(\u001b[38;5;124mf\u001b[39m\u001b[38;5;124m\"\u001b[39m\u001b[38;5;132;01m{\u001b[39;00mnot_found\u001b[38;5;132;01m}\u001b[39;00m\u001b[38;5;124m not in index\u001b[39m\u001b[38;5;124m\"\u001b[39m)\n",
      "\u001b[1;31mKeyError\u001b[0m: \"None of [Index(['Mercury'], dtype='object')] are in the [index]\""
     ]
    }
   ],
   "source": [
    "t[ ['Mercury'] ]"
   ]
  },
  {
   "cell_type": "code",
   "execution_count": 51,
   "id": "e7cfbb1a",
   "metadata": {},
   "outputs": [
    {
     "data": {
      "text/plain": [
       "Mercury      0\n",
       "Venus        0\n",
       "Earth        1\n",
       "Mars         2\n",
       "Jupiter     95\n",
       "Saturn     146\n",
       "Uranus      27\n",
       "Neptune     14\n",
       "dtype: int64"
      ]
     },
     "execution_count": 51,
     "metadata": {},
     "output_type": "execute_result"
    }
   ],
   "source": [
    "planet_moons"
   ]
  },
  {
   "cell_type": "code",
   "execution_count": 52,
   "id": "926572c9",
   "metadata": {},
   "outputs": [
    {
     "data": {
      "text/plain": [
       "Jupiter    95\n",
       "Neptune    14\n",
       "dtype: int64"
      ]
     },
     "execution_count": 52,
     "metadata": {},
     "output_type": "execute_result"
    }
   ],
   "source": [
    "planet_moons[[\"Jupiter\", \"Neptune\"]]"
   ]
  },
  {
   "cell_type": "code",
   "execution_count": 54,
   "id": "4b633872",
   "metadata": {},
   "outputs": [
    {
     "data": {
      "text/plain": [
       "Jupiter    95\n",
       "dtype: int64"
      ]
     },
     "execution_count": 54,
     "metadata": {},
     "output_type": "execute_result"
    }
   ],
   "source": [
    "planet_moons[[\"Jupiter\"]]"
   ]
  },
  {
   "cell_type": "code",
   "execution_count": 55,
   "id": "e6383568",
   "metadata": {},
   "outputs": [
    {
     "data": {
      "text/plain": [
       "95"
      ]
     },
     "execution_count": 55,
     "metadata": {},
     "output_type": "execute_result"
    }
   ],
   "source": [
    "planet_moons[\"Jupiter\"]"
   ]
  },
  {
   "cell_type": "code",
   "execution_count": 60,
   "id": "c6de51e9",
   "metadata": {},
   "outputs": [
    {
     "data": {
      "text/plain": [
       "Earth        1\n",
       "Saturn     146\n",
       "Neptune     14\n",
       "dtype: int64"
      ]
     },
     "execution_count": 60,
     "metadata": {},
     "output_type": "execute_result"
    }
   ],
   "source": [
    "planet_moons[[False, False, True, False, False, True, False, True]]"
   ]
  },
  {
   "cell_type": "code",
   "execution_count": 61,
   "id": "40bdb615",
   "metadata": {},
   "outputs": [
    {
     "data": {
      "text/plain": [
       "Mercury     True\n",
       "Venus       True\n",
       "Earth       True\n",
       "Mars        True\n",
       "Jupiter    False\n",
       "Saturn     False\n",
       "Uranus     False\n",
       "Neptune     True\n",
       "dtype: bool"
      ]
     },
     "execution_count": 61,
     "metadata": {},
     "output_type": "execute_result"
    }
   ],
   "source": [
    "planet_moons < 20"
   ]
  },
  {
   "cell_type": "code",
   "execution_count": 62,
   "id": "1953b542",
   "metadata": {},
   "outputs": [
    {
     "data": {
      "text/plain": [
       "Mercury     0\n",
       "Venus       0\n",
       "Earth       1\n",
       "Mars        2\n",
       "Neptune    14\n",
       "dtype: int64"
      ]
     },
     "execution_count": 62,
     "metadata": {},
     "output_type": "execute_result"
    }
   ],
   "source": [
    "planet_moons[ planet_moons < 20 ]"
   ]
  },
  {
   "cell_type": "code",
   "execution_count": 65,
   "id": "6a46d1a6",
   "metadata": {},
   "outputs": [
    {
     "data": {
      "text/plain": [
       "[1, 2, 3, 4, 10, 11, 12]"
      ]
     },
     "execution_count": 65,
     "metadata": {},
     "output_type": "execute_result"
    }
   ],
   "source": [
    "python_normal_list"
   ]
  },
  {
   "cell_type": "code",
   "execution_count": 66,
   "id": "50ebfbe1",
   "metadata": {},
   "outputs": [
    {
     "data": {
      "text/plain": [
       "[1, 2, 3, 4]"
      ]
     },
     "execution_count": 66,
     "metadata": {},
     "output_type": "execute_result"
    }
   ],
   "source": [
    "[item for item in python_normal_list if item < 10]"
   ]
  },
  {
   "cell_type": "code",
   "execution_count": 67,
   "id": "1a1cea5b",
   "metadata": {},
   "outputs": [
    {
     "data": {
      "text/plain": [
       "0     4\n",
       "1     5\n",
       "2     6\n",
       "3    12\n",
       "4    22\n",
       "5    64\n",
       "6    30\n",
       "7     7\n",
       "8    19\n",
       "dtype: int64"
      ]
     },
     "execution_count": 67,
     "metadata": {},
     "output_type": "execute_result"
    }
   ],
   "source": [
    "s"
   ]
  },
  {
   "cell_type": "code",
   "execution_count": 72,
   "id": "094a663b",
   "metadata": {},
   "outputs": [
    {
     "data": {
      "text/plain": [
       "4    22\n",
       "5    64\n",
       "6    30\n",
       "8    19\n",
       "dtype: int64"
      ]
     },
     "execution_count": 72,
     "metadata": {},
     "output_type": "execute_result"
    }
   ],
   "source": [
    "s[s > s.mean()]\n",
    "\n",
    "# can apply mathematical operations in conditional"
   ]
  },
  {
   "cell_type": "code",
   "execution_count": 73,
   "id": "91bcf8a1",
   "metadata": {},
   "outputs": [
    {
     "data": {
      "text/plain": [
       "0    False\n",
       "1    False\n",
       "2    False\n",
       "3    False\n",
       "4     True\n",
       "5     True\n",
       "6     True\n",
       "7    False\n",
       "8     True\n",
       "dtype: bool"
      ]
     },
     "execution_count": 73,
     "metadata": {},
     "output_type": "execute_result"
    }
   ],
   "source": [
    "s > s.mean()"
   ]
  },
  {
   "cell_type": "markdown",
   "id": "b2abf6d4",
   "metadata": {},
   "source": [
    "## Data Frame\n",
    "\n",
    "representing tabular data in python\n",
    "data frame -> series stacked next to each other (where each series represents a column)"
   ]
  },
  {
   "cell_type": "code",
   "execution_count": 4,
   "id": "4444de61",
   "metadata": {},
   "outputs": [
    {
     "ename": "NameError",
     "evalue": "name 'pd' is not defined",
     "output_type": "error",
     "traceback": [
      "\u001b[1;31m---------------------------------------------------------------------------\u001b[0m",
      "\u001b[1;31mNameError\u001b[0m                                 Traceback (most recent call last)",
      "Cell \u001b[1;32mIn[4], line 7\u001b[0m\n\u001b[0;32m      1\u001b[0m river_data \u001b[38;5;241m=\u001b[39m [\n\u001b[0;32m      2\u001b[0m     [\u001b[38;5;124m'\u001b[39m\u001b[38;5;124mAmazon\u001b[39m\u001b[38;5;124m'\u001b[39m, \u001b[38;5;241m6992\u001b[39m, \u001b[38;5;241m7050000\u001b[39m, \u001b[38;5;241m209000\u001b[39m],\n\u001b[0;32m      3\u001b[0m     [\u001b[38;5;124m'\u001b[39m\u001b[38;5;124mNile\u001b[39m\u001b[38;5;124m'\u001b[39m, \u001b[38;5;241m6835\u001b[39m, \u001b[38;5;241m325455\u001b[39m, \u001b[38;5;241m2800\u001b[39m],\n\u001b[0;32m      4\u001b[0m     [\u001b[38;5;124m'\u001b[39m\u001b[38;5;124mYangtze\u001b[39m\u001b[38;5;124m'\u001b[39m, \u001b[38;5;241m6300\u001b[39m, \u001b[38;5;241m1800000\u001b[39m, \u001b[38;5;241m31900\u001b[39m],\n\u001b[0;32m      5\u001b[0m     [\u001b[38;5;124m'\u001b[39m\u001b[38;5;124mMississippi\u001b[39m\u001b[38;5;124m'\u001b[39m, \u001b[38;5;241m6275\u001b[39m, \u001b[38;5;241m298000\u001b[39m, \u001b[38;5;241m16200\u001b[39m], \n\u001b[0;32m      6\u001b[0m ]\n\u001b[1;32m----> 7\u001b[0m river_df \u001b[38;5;241m=\u001b[39m pd\u001b[38;5;241m.\u001b[39mDataFrame(river_data, columns \u001b[38;5;241m=\u001b[39m [\u001b[38;5;124m'\u001b[39m\u001b[38;5;124mName\u001b[39m\u001b[38;5;124m'\u001b[39m, \u001b[38;5;124m\"\u001b[39m\u001b[38;5;124mLength\u001b[39m\u001b[38;5;124m\"\u001b[39m, \u001b[38;5;124m\"\u001b[39m\u001b[38;5;124mDrainage\u001b[39m\u001b[38;5;124m\"\u001b[39m, \u001b[38;5;124m\"\u001b[39m\u001b[38;5;124mDischarge\u001b[39m\u001b[38;5;124m\"\u001b[39m])\n",
      "\u001b[1;31mNameError\u001b[0m: name 'pd' is not defined"
     ]
    }
   ],
   "source": [
    "river_data = [\n",
    "    ['Amazon', 6992, 7050000, 209000],\n",
    "    ['Nile', 6835, 325455, 2800],\n",
    "    ['Yangtze', 6300, 1800000, 31900],\n",
    "    ['Mississippi', 6275, 298000, 16200], \n",
    "]\n",
    "river_df = pd.DataFrame(river_data, columns = ['Name', \"Length\", \"Drainage\", \"Discharge\"])"
   ]
  },
  {
   "cell_type": "code",
   "execution_count": 83,
   "id": "98748ead",
   "metadata": {},
   "outputs": [
    {
     "data": {
      "text/html": [
       "<div>\n",
       "<style scoped>\n",
       "    .dataframe tbody tr th:only-of-type {\n",
       "        vertical-align: middle;\n",
       "    }\n",
       "\n",
       "    .dataframe tbody tr th {\n",
       "        vertical-align: top;\n",
       "    }\n",
       "\n",
       "    .dataframe thead th {\n",
       "        text-align: right;\n",
       "    }\n",
       "</style>\n",
       "<table border=\"1\" class=\"dataframe\">\n",
       "  <thead>\n",
       "    <tr style=\"text-align: right;\">\n",
       "      <th></th>\n",
       "      <th>Name</th>\n",
       "      <th>Length</th>\n",
       "      <th>Drainage</th>\n",
       "      <th>Discharge</th>\n",
       "    </tr>\n",
       "  </thead>\n",
       "  <tbody>\n",
       "    <tr>\n",
       "      <th>0</th>\n",
       "      <td>Amazon</td>\n",
       "      <td>6992</td>\n",
       "      <td>7050000</td>\n",
       "      <td>209000</td>\n",
       "    </tr>\n",
       "    <tr>\n",
       "      <th>1</th>\n",
       "      <td>Nile</td>\n",
       "      <td>6835</td>\n",
       "      <td>325455</td>\n",
       "      <td>2800</td>\n",
       "    </tr>\n",
       "    <tr>\n",
       "      <th>2</th>\n",
       "      <td>Yangtze</td>\n",
       "      <td>6300</td>\n",
       "      <td>1800000</td>\n",
       "      <td>31900</td>\n",
       "    </tr>\n",
       "    <tr>\n",
       "      <th>3</th>\n",
       "      <td>Mississippi</td>\n",
       "      <td>6275</td>\n",
       "      <td>298000</td>\n",
       "      <td>16200</td>\n",
       "    </tr>\n",
       "  </tbody>\n",
       "</table>\n",
       "</div>"
      ],
      "text/plain": [
       "          Name  Length  Drainage  Discharge\n",
       "0       Amazon    6992   7050000     209000\n",
       "1         Nile    6835    325455       2800\n",
       "2      Yangtze    6300   1800000      31900\n",
       "3  Mississippi    6275    298000      16200"
      ]
     },
     "execution_count": 83,
     "metadata": {},
     "output_type": "execute_result"
    }
   ],
   "source": [
    "river_df"
   ]
  },
  {
   "cell_type": "code",
   "execution_count": 84,
   "id": "71062b54",
   "metadata": {},
   "outputs": [
    {
     "data": {
      "text/plain": [
       "<Axes: >"
      ]
     },
     "execution_count": 84,
     "metadata": {},
     "output_type": "execute_result"
    },
    {
     "data": {
      "image/png": "[encoded data removed]",
      "text/plain": [
       "<Figure size 1000x400 with 1 Axes>"
      ]
     },
     "metadata": {},
     "output_type": "display_data"
    }
   ],
   "source": [
    "river_df.plot(kind=\"bar\")"
   ]
  },
  {
   "cell_type": "code",
   "execution_count": 85,
   "id": "34e3e4df",
   "metadata": {},
   "outputs": [
    {
     "data": {
      "text/plain": [
       "<Axes: >"
      ]
     },
     "execution_count": 85,
     "metadata": {},
     "output_type": "execute_result"
    },
    {
     "data": {
      "image/png": "[encoded data removed]",
      "text/plain": [
       "<Figure size 1000x400 with 1 Axes>"
      ]
     },
     "metadata": {},
     "output_type": "display_data"
    }
   ],
   "source": [
    "river_df[\"Discharge\"].plot(kind=\"bar\")"
   ]
  },
  {
   "cell_type": "code",
   "execution_count": 86,
   "id": "eab1d14a",
   "metadata": {},
   "outputs": [
    {
     "data": {
      "text/plain": [
       "<Axes: xlabel='Name'>"
      ]
     },
     "execution_count": 86,
     "metadata": {},
     "output_type": "execute_result"
    },
    {
     "data": {
      "image/png": "[encoded data removed]",
      "text/plain": [
       "<Figure size 1000x400 with 1 Axes>"
      ]
     },
     "metadata": {},
     "output_type": "display_data"
    }
   ],
   "source": [
    "river_df.plot(kind=\"bar\", x=\"Name\", y=\"Discharge\")"
   ]
  },
  {
   "cell_type": "code",
   "execution_count": 87,
   "id": "48494999",
   "metadata": {},
   "outputs": [
    {
     "data": {
      "text/html": [
       "<div>\n",
       "<style scoped>\n",
       "    .dataframe tbody tr th:only-of-type {\n",
       "        vertical-align: middle;\n",
       "    }\n",
       "\n",
       "    .dataframe tbody tr th {\n",
       "        vertical-align: top;\n",
       "    }\n",
       "\n",
       "    .dataframe thead th {\n",
       "        text-align: right;\n",
       "    }\n",
       "</style>\n",
       "<table border=\"1\" class=\"dataframe\">\n",
       "  <thead>\n",
       "    <tr style=\"text-align: right;\">\n",
       "      <th></th>\n",
       "      <th>Length</th>\n",
       "      <th>Drainage</th>\n",
       "      <th>Discharge</th>\n",
       "    </tr>\n",
       "  </thead>\n",
       "  <tbody>\n",
       "    <tr>\n",
       "      <th>count</th>\n",
       "      <td>4.000000</td>\n",
       "      <td>4.000000e+00</td>\n",
       "      <td>4.00000</td>\n",
       "    </tr>\n",
       "    <tr>\n",
       "      <th>mean</th>\n",
       "      <td>6600.500000</td>\n",
       "      <td>2.368364e+06</td>\n",
       "      <td>64975.00000</td>\n",
       "    </tr>\n",
       "    <tr>\n",
       "      <th>std</th>\n",
       "      <td>367.202487</td>\n",
       "      <td>3.198991e+06</td>\n",
       "      <td>96750.34453</td>\n",
       "    </tr>\n",
       "    <tr>\n",
       "      <th>min</th>\n",
       "      <td>6275.000000</td>\n",
       "      <td>2.980000e+05</td>\n",
       "      <td>2800.00000</td>\n",
       "    </tr>\n",
       "    <tr>\n",
       "      <th>25%</th>\n",
       "      <td>6293.750000</td>\n",
       "      <td>3.185912e+05</td>\n",
       "      <td>12850.00000</td>\n",
       "    </tr>\n",
       "    <tr>\n",
       "      <th>50%</th>\n",
       "      <td>6567.500000</td>\n",
       "      <td>1.062728e+06</td>\n",
       "      <td>24050.00000</td>\n",
       "    </tr>\n",
       "    <tr>\n",
       "      <th>75%</th>\n",
       "      <td>6874.250000</td>\n",
       "      <td>3.112500e+06</td>\n",
       "      <td>76175.00000</td>\n",
       "    </tr>\n",
       "    <tr>\n",
       "      <th>max</th>\n",
       "      <td>6992.000000</td>\n",
       "      <td>7.050000e+06</td>\n",
       "      <td>209000.00000</td>\n",
       "    </tr>\n",
       "  </tbody>\n",
       "</table>\n",
       "</div>"
      ],
      "text/plain": [
       "            Length      Drainage     Discharge\n",
       "count     4.000000  4.000000e+00       4.00000\n",
       "mean   6600.500000  2.368364e+06   64975.00000\n",
       "std     367.202487  3.198991e+06   96750.34453\n",
       "min    6275.000000  2.980000e+05    2800.00000\n",
       "25%    6293.750000  3.185912e+05   12850.00000\n",
       "50%    6567.500000  1.062728e+06   24050.00000\n",
       "75%    6874.250000  3.112500e+06   76175.00000\n",
       "max    6992.000000  7.050000e+06  209000.00000"
      ]
     },
     "execution_count": 87,
     "metadata": {},
     "output_type": "execute_result"
    }
   ],
   "source": [
    "river_df.describe()"
   ]
  },
  {
   "cell_type": "code",
   "execution_count": 88,
   "id": "cda1e7f1",
   "metadata": {},
   "outputs": [
    {
     "name": "stdout",
     "output_type": "stream",
     "text": [
      "<class 'pandas.core.frame.DataFrame'>\n",
      "RangeIndex: 4 entries, 0 to 3\n",
      "Data columns (total 4 columns):\n",
      " #   Column     Non-Null Count  Dtype \n",
      "---  ------     --------------  ----- \n",
      " 0   Name       4 non-null      object\n",
      " 1   Length     4 non-null      int64 \n",
      " 2   Drainage   4 non-null      int64 \n",
      " 3   Discharge  4 non-null      int64 \n",
      "dtypes: int64(3), object(1)\n",
      "memory usage: 260.0+ bytes\n"
     ]
    }
   ],
   "source": [
    "river_df.info()"
   ]
  },
  {
   "cell_type": "markdown",
   "id": "f552b769",
   "metadata": {},
   "source": [
    "## Indexing the data frame"
   ]
  },
  {
   "cell_type": "markdown",
   "id": "cacdccc6",
   "metadata": {},
   "source": [
    "* DataFrame -> Series (index column or row)\n",
    "* DataFrame -> single value\n",
    "* DataFrame -> another DataFrame"
   ]
  },
  {
   "cell_type": "code",
   "execution_count": 1,
   "id": "99ba7775",
   "metadata": {
    "scrolled": true
   },
   "outputs": [
    {
     "ename": "NameError",
     "evalue": "name 'river_df' is not defined",
     "output_type": "error",
     "traceback": [
      "\u001b[1;31m---------------------------------------------------------------------------\u001b[0m",
      "\u001b[1;31mNameError\u001b[0m                                 Traceback (most recent call last)",
      "Cell \u001b[1;32mIn[1], line 1\u001b[0m\n\u001b[1;32m----> 1\u001b[0m river_df\n",
      "\u001b[1;31mNameError\u001b[0m: name 'river_df' is not defined"
     ]
    }
   ],
   "source": [
    "river_df"
   ]
  },
  {
   "cell_type": "code",
   "execution_count": 94,
   "id": "edd718be",
   "metadata": {},
   "outputs": [
    {
     "data": {
      "text/plain": [
       "0    6992\n",
       "1    6835\n",
       "2    6300\n",
       "3    6275\n",
       "Name: Length, dtype: int64"
      ]
     },
     "execution_count": 94,
     "metadata": {},
     "output_type": "execute_result"
    }
   ],
   "source": [
    "river_df[\"Length\"]"
   ]
  },
  {
   "cell_type": "code",
   "execution_count": 95,
   "id": "58ec6417",
   "metadata": {},
   "outputs": [
    {
     "data": {
      "text/plain": [
       "6300"
      ]
     },
     "execution_count": 95,
     "metadata": {},
     "output_type": "execute_result"
    }
   ],
   "source": [
    "river_df[\"Length\"][2]"
   ]
  },
  {
   "cell_type": "markdown",
   "id": "8056f8d1",
   "metadata": {},
   "source": [
    "Not a recommended way to obtain data"
   ]
  },
  {
   "cell_type": "code",
   "execution_count": 96,
   "id": "97955a60",
   "metadata": {},
   "outputs": [
    {
     "data": {
      "text/plain": [
       "'Yangtze'"
      ]
     },
     "execution_count": 96,
     "metadata": {},
     "output_type": "execute_result"
    }
   ],
   "source": [
    "river_df.iloc[2][0]"
   ]
  },
  {
   "cell_type": "code",
   "execution_count": 97,
   "id": "81b27ba4",
   "metadata": {},
   "outputs": [
    {
     "data": {
      "text/html": [
       "<div>\n",
       "<style scoped>\n",
       "    .dataframe tbody tr th:only-of-type {\n",
       "        vertical-align: middle;\n",
       "    }\n",
       "\n",
       "    .dataframe tbody tr th {\n",
       "        vertical-align: top;\n",
       "    }\n",
       "\n",
       "    .dataframe thead th {\n",
       "        text-align: right;\n",
       "    }\n",
       "</style>\n",
       "<table border=\"1\" class=\"dataframe\">\n",
       "  <thead>\n",
       "    <tr style=\"text-align: right;\">\n",
       "      <th></th>\n",
       "      <th>Name</th>\n",
       "      <th>Length</th>\n",
       "    </tr>\n",
       "  </thead>\n",
       "  <tbody>\n",
       "    <tr>\n",
       "      <th>0</th>\n",
       "      <td>Amazon</td>\n",
       "      <td>6992</td>\n",
       "    </tr>\n",
       "    <tr>\n",
       "      <th>1</th>\n",
       "      <td>Nile</td>\n",
       "      <td>6835</td>\n",
       "    </tr>\n",
       "    <tr>\n",
       "      <th>2</th>\n",
       "      <td>Yangtze</td>\n",
       "      <td>6300</td>\n",
       "    </tr>\n",
       "    <tr>\n",
       "      <th>3</th>\n",
       "      <td>Mississippi</td>\n",
       "      <td>6275</td>\n",
       "    </tr>\n",
       "  </tbody>\n",
       "</table>\n",
       "</div>"
      ],
      "text/plain": [
       "          Name  Length\n",
       "0       Amazon    6992\n",
       "1         Nile    6835\n",
       "2      Yangtze    6300\n",
       "3  Mississippi    6275"
      ]
     },
     "execution_count": 97,
     "metadata": {},
     "output_type": "execute_result"
    }
   ],
   "source": [
    "river_df[[\"Name\", \"Length\"]]"
   ]
  },
  {
   "cell_type": "code",
   "execution_count": 99,
   "id": "7c0049de",
   "metadata": {},
   "outputs": [
    {
     "data": {
      "text/html": [
       "<div>\n",
       "<style scoped>\n",
       "    .dataframe tbody tr th:only-of-type {\n",
       "        vertical-align: middle;\n",
       "    }\n",
       "\n",
       "    .dataframe tbody tr th {\n",
       "        vertical-align: top;\n",
       "    }\n",
       "\n",
       "    .dataframe thead th {\n",
       "        text-align: right;\n",
       "    }\n",
       "</style>\n",
       "<table border=\"1\" class=\"dataframe\">\n",
       "  <thead>\n",
       "    <tr style=\"text-align: right;\">\n",
       "      <th></th>\n",
       "      <th>Name</th>\n",
       "      <th>Length</th>\n",
       "      <th>Drainage</th>\n",
       "      <th>Discharge</th>\n",
       "    </tr>\n",
       "  </thead>\n",
       "  <tbody>\n",
       "    <tr>\n",
       "      <th>1</th>\n",
       "      <td>Nile</td>\n",
       "      <td>6835</td>\n",
       "      <td>325455</td>\n",
       "      <td>2800</td>\n",
       "    </tr>\n",
       "    <tr>\n",
       "      <th>2</th>\n",
       "      <td>Yangtze</td>\n",
       "      <td>6300</td>\n",
       "      <td>1800000</td>\n",
       "      <td>31900</td>\n",
       "    </tr>\n",
       "  </tbody>\n",
       "</table>\n",
       "</div>"
      ],
      "text/plain": [
       "      Name  Length  Drainage  Discharge\n",
       "1     Nile    6835    325455       2800\n",
       "2  Yangtze    6300   1800000      31900"
      ]
     },
     "execution_count": 99,
     "metadata": {},
     "output_type": "execute_result"
    }
   ],
   "source": [
    "river_df[1:3]"
   ]
  },
  {
   "cell_type": "code",
   "execution_count": 101,
   "id": "aae042f1",
   "metadata": {},
   "outputs": [
    {
     "data": {
      "text/plain": [
       "0         Amazon\n",
       "1           Nile\n",
       "2        Yangtze\n",
       "3    Mississippi\n",
       "Name: Name, dtype: object"
      ]
     },
     "execution_count": 101,
     "metadata": {},
     "output_type": "execute_result"
    }
   ],
   "source": [
    "river_df['Name']\n"
   ]
  },
  {
   "cell_type": "code",
   "execution_count": 100,
   "id": "c761a43c",
   "metadata": {},
   "outputs": [
    {
     "data": {
      "text/html": [
       "<div>\n",
       "<style scoped>\n",
       "    .dataframe tbody tr th:only-of-type {\n",
       "        vertical-align: middle;\n",
       "    }\n",
       "\n",
       "    .dataframe tbody tr th {\n",
       "        vertical-align: top;\n",
       "    }\n",
       "\n",
       "    .dataframe thead th {\n",
       "        text-align: right;\n",
       "    }\n",
       "</style>\n",
       "<table border=\"1\" class=\"dataframe\">\n",
       "  <thead>\n",
       "    <tr style=\"text-align: right;\">\n",
       "      <th></th>\n",
       "      <th>Name</th>\n",
       "    </tr>\n",
       "  </thead>\n",
       "  <tbody>\n",
       "    <tr>\n",
       "      <th>0</th>\n",
       "      <td>Amazon</td>\n",
       "    </tr>\n",
       "    <tr>\n",
       "      <th>1</th>\n",
       "      <td>Nile</td>\n",
       "    </tr>\n",
       "    <tr>\n",
       "      <th>2</th>\n",
       "      <td>Yangtze</td>\n",
       "    </tr>\n",
       "    <tr>\n",
       "      <th>3</th>\n",
       "      <td>Mississippi</td>\n",
       "    </tr>\n",
       "  </tbody>\n",
       "</table>\n",
       "</div>"
      ],
      "text/plain": [
       "          Name\n",
       "0       Amazon\n",
       "1         Nile\n",
       "2      Yangtze\n",
       "3  Mississippi"
      ]
     },
     "execution_count": 100,
     "metadata": {},
     "output_type": "execute_result"
    }
   ],
   "source": [
    "river_df[['Name']]"
   ]
  },
  {
   "cell_type": "code",
   "execution_count": 3,
   "id": "64caa46f",
   "metadata": {},
   "outputs": [
    {
     "ename": "NameError",
     "evalue": "name 'river_df' is not defined",
     "output_type": "error",
     "traceback": [
      "\u001b[1;31m---------------------------------------------------------------------------\u001b[0m",
      "\u001b[1;31mNameError\u001b[0m                                 Traceback (most recent call last)",
      "Cell \u001b[1;32mIn[3], line 1\u001b[0m\n\u001b[1;32m----> 1\u001b[0m river_df[ river_df[\u001b[38;5;124m\"\u001b[39m\u001b[38;5;124mDischarge\u001b[39m\u001b[38;5;124m\"\u001b[39m] \u001b[38;5;241m>\u001b[39m \u001b[38;5;241m3000\u001b[39m ]\n",
      "\u001b[1;31mNameError\u001b[0m: name 'river_df' is not defined"
     ]
    }
   ],
   "source": [
    "river_df[ river_df[\"Discharge\"] > 3000 ]"
   ]
  },
  {
   "cell_type": "markdown",
   "id": "a1723821",
   "metadata": {},
   "source": [
    "## Using Real Data"
   ]
  },
  {
   "cell_type": "code",
   "execution_count": 3,
   "id": "2991658e",
   "metadata": {
    "scrolled": true
   },
   "outputs": [],
   "source": [
    "import pandas as pd"
   ]
  },
  {
   "cell_type": "code",
   "execution_count": 4,
   "id": "2840ab6b",
   "metadata": {},
   "outputs": [],
   "source": [
    "%matplotlib inline\n",
    "import matplotlib.pyplot as plt\n",
    "plt.style.use('ggplot')\n",
    "plt.rcParams['figure.figsize'] = (10, 4)"
   ]
  },
  {
   "cell_type": "code",
   "execution_count": 5,
   "id": "3e268537",
   "metadata": {
    "scrolled": true
   },
   "outputs": [],
   "source": [
    "df = pd.read_csv(\"./archive.ics.uci.edu_ml_machine-learning-databases_00381_PRSA_data_2010.1.1-2014.12.31.csv\")"
   ]
  },
  {
   "cell_type": "code",
   "execution_count": 12,
   "id": "411938ad",
   "metadata": {
    "scrolled": true
   },
   "outputs": [
    {
     "data": {
      "text/html": [
       "<div>\n",
       "<style scoped>\n",
       "    .dataframe tbody tr th:only-of-type {\n",
       "        vertical-align: middle;\n",
       "    }\n",
       "\n",
       "    .dataframe tbody tr th {\n",
       "        vertical-align: top;\n",
       "    }\n",
       "\n",
       "    .dataframe thead th {\n",
       "        text-align: right;\n",
       "    }\n",
       "</style>\n",
       "<table border=\"1\" class=\"dataframe\">\n",
       "  <thead>\n",
       "    <tr style=\"text-align: right;\">\n",
       "      <th></th>\n",
       "      <th>No</th>\n",
       "      <th>year</th>\n",
       "      <th>month</th>\n",
       "      <th>day</th>\n",
       "      <th>hour</th>\n",
       "      <th>pm2.5</th>\n",
       "      <th>DEWP</th>\n",
       "      <th>TEMP</th>\n",
       "      <th>PRES</th>\n",
       "      <th>cbwd</th>\n",
       "      <th>Iws</th>\n",
       "      <th>Is</th>\n",
       "      <th>Ir</th>\n",
       "    </tr>\n",
       "  </thead>\n",
       "  <tbody>\n",
       "    <tr>\n",
       "      <th>0</th>\n",
       "      <td>1</td>\n",
       "      <td>2010</td>\n",
       "      <td>1</td>\n",
       "      <td>1</td>\n",
       "      <td>0</td>\n",
       "      <td>NaN</td>\n",
       "      <td>-21</td>\n",
       "      <td>-11.0</td>\n",
       "      <td>1021.0</td>\n",
       "      <td>NW</td>\n",
       "      <td>1.79</td>\n",
       "      <td>0</td>\n",
       "      <td>0</td>\n",
       "    </tr>\n",
       "    <tr>\n",
       "      <th>1</th>\n",
       "      <td>2</td>\n",
       "      <td>2010</td>\n",
       "      <td>1</td>\n",
       "      <td>1</td>\n",
       "      <td>1</td>\n",
       "      <td>NaN</td>\n",
       "      <td>-21</td>\n",
       "      <td>-12.0</td>\n",
       "      <td>1020.0</td>\n",
       "      <td>NW</td>\n",
       "      <td>4.92</td>\n",
       "      <td>0</td>\n",
       "      <td>0</td>\n",
       "    </tr>\n",
       "    <tr>\n",
       "      <th>2</th>\n",
       "      <td>3</td>\n",
       "      <td>2010</td>\n",
       "      <td>1</td>\n",
       "      <td>1</td>\n",
       "      <td>2</td>\n",
       "      <td>NaN</td>\n",
       "      <td>-21</td>\n",
       "      <td>-11.0</td>\n",
       "      <td>1019.0</td>\n",
       "      <td>NW</td>\n",
       "      <td>6.71</td>\n",
       "      <td>0</td>\n",
       "      <td>0</td>\n",
       "    </tr>\n",
       "    <tr>\n",
       "      <th>3</th>\n",
       "      <td>4</td>\n",
       "      <td>2010</td>\n",
       "      <td>1</td>\n",
       "      <td>1</td>\n",
       "      <td>3</td>\n",
       "      <td>NaN</td>\n",
       "      <td>-21</td>\n",
       "      <td>-14.0</td>\n",
       "      <td>1019.0</td>\n",
       "      <td>NW</td>\n",
       "      <td>9.84</td>\n",
       "      <td>0</td>\n",
       "      <td>0</td>\n",
       "    </tr>\n",
       "    <tr>\n",
       "      <th>4</th>\n",
       "      <td>5</td>\n",
       "      <td>2010</td>\n",
       "      <td>1</td>\n",
       "      <td>1</td>\n",
       "      <td>4</td>\n",
       "      <td>NaN</td>\n",
       "      <td>-20</td>\n",
       "      <td>-12.0</td>\n",
       "      <td>1018.0</td>\n",
       "      <td>NW</td>\n",
       "      <td>12.97</td>\n",
       "      <td>0</td>\n",
       "      <td>0</td>\n",
       "    </tr>\n",
       "    <tr>\n",
       "      <th>...</th>\n",
       "      <td>...</td>\n",
       "      <td>...</td>\n",
       "      <td>...</td>\n",
       "      <td>...</td>\n",
       "      <td>...</td>\n",
       "      <td>...</td>\n",
       "      <td>...</td>\n",
       "      <td>...</td>\n",
       "      <td>...</td>\n",
       "      <td>...</td>\n",
       "      <td>...</td>\n",
       "      <td>...</td>\n",
       "      <td>...</td>\n",
       "    </tr>\n",
       "    <tr>\n",
       "      <th>43819</th>\n",
       "      <td>43820</td>\n",
       "      <td>2014</td>\n",
       "      <td>12</td>\n",
       "      <td>31</td>\n",
       "      <td>19</td>\n",
       "      <td>8.0</td>\n",
       "      <td>-23</td>\n",
       "      <td>-2.0</td>\n",
       "      <td>1034.0</td>\n",
       "      <td>NW</td>\n",
       "      <td>231.97</td>\n",
       "      <td>0</td>\n",
       "      <td>0</td>\n",
       "    </tr>\n",
       "    <tr>\n",
       "      <th>43820</th>\n",
       "      <td>43821</td>\n",
       "      <td>2014</td>\n",
       "      <td>12</td>\n",
       "      <td>31</td>\n",
       "      <td>20</td>\n",
       "      <td>10.0</td>\n",
       "      <td>-22</td>\n",
       "      <td>-3.0</td>\n",
       "      <td>1034.0</td>\n",
       "      <td>NW</td>\n",
       "      <td>237.78</td>\n",
       "      <td>0</td>\n",
       "      <td>0</td>\n",
       "    </tr>\n",
       "    <tr>\n",
       "      <th>43821</th>\n",
       "      <td>43822</td>\n",
       "      <td>2014</td>\n",
       "      <td>12</td>\n",
       "      <td>31</td>\n",
       "      <td>21</td>\n",
       "      <td>10.0</td>\n",
       "      <td>-22</td>\n",
       "      <td>-3.0</td>\n",
       "      <td>1034.0</td>\n",
       "      <td>NW</td>\n",
       "      <td>242.70</td>\n",
       "      <td>0</td>\n",
       "      <td>0</td>\n",
       "    </tr>\n",
       "    <tr>\n",
       "      <th>43822</th>\n",
       "      <td>43823</td>\n",
       "      <td>2014</td>\n",
       "      <td>12</td>\n",
       "      <td>31</td>\n",
       "      <td>22</td>\n",
       "      <td>8.0</td>\n",
       "      <td>-22</td>\n",
       "      <td>-4.0</td>\n",
       "      <td>1034.0</td>\n",
       "      <td>NW</td>\n",
       "      <td>246.72</td>\n",
       "      <td>0</td>\n",
       "      <td>0</td>\n",
       "    </tr>\n",
       "    <tr>\n",
       "      <th>43823</th>\n",
       "      <td>43824</td>\n",
       "      <td>2014</td>\n",
       "      <td>12</td>\n",
       "      <td>31</td>\n",
       "      <td>23</td>\n",
       "      <td>12.0</td>\n",
       "      <td>-21</td>\n",
       "      <td>-3.0</td>\n",
       "      <td>1034.0</td>\n",
       "      <td>NW</td>\n",
       "      <td>249.85</td>\n",
       "      <td>0</td>\n",
       "      <td>0</td>\n",
       "    </tr>\n",
       "  </tbody>\n",
       "</table>\n",
       "<p>43824 rows × 13 columns</p>\n",
       "</div>"
      ],
      "text/plain": [
       "          No  year  month  day  hour  pm2.5  DEWP  TEMP    PRES cbwd     Iws  \\\n",
       "0          1  2010      1    1     0    NaN   -21 -11.0  1021.0   NW    1.79   \n",
       "1          2  2010      1    1     1    NaN   -21 -12.0  1020.0   NW    4.92   \n",
       "2          3  2010      1    1     2    NaN   -21 -11.0  1019.0   NW    6.71   \n",
       "3          4  2010      1    1     3    NaN   -21 -14.0  1019.0   NW    9.84   \n",
       "4          5  2010      1    1     4    NaN   -20 -12.0  1018.0   NW   12.97   \n",
       "...      ...   ...    ...  ...   ...    ...   ...   ...     ...  ...     ...   \n",
       "43819  43820  2014     12   31    19    8.0   -23  -2.0  1034.0   NW  231.97   \n",
       "43820  43821  2014     12   31    20   10.0   -22  -3.0  1034.0   NW  237.78   \n",
       "43821  43822  2014     12   31    21   10.0   -22  -3.0  1034.0   NW  242.70   \n",
       "43822  43823  2014     12   31    22    8.0   -22  -4.0  1034.0   NW  246.72   \n",
       "43823  43824  2014     12   31    23   12.0   -21  -3.0  1034.0   NW  249.85   \n",
       "\n",
       "       Is  Ir  \n",
       "0       0   0  \n",
       "1       0   0  \n",
       "2       0   0  \n",
       "3       0   0  \n",
       "4       0   0  \n",
       "...    ..  ..  \n",
       "43819   0   0  \n",
       "43820   0   0  \n",
       "43821   0   0  \n",
       "43822   0   0  \n",
       "43823   0   0  \n",
       "\n",
       "[43824 rows x 13 columns]"
      ]
     },
     "execution_count": 12,
     "metadata": {},
     "output_type": "execute_result"
    }
   ],
   "source": [
    "df"
   ]
  },
  {
   "cell_type": "code",
   "execution_count": 14,
   "id": "ac1d1930",
   "metadata": {},
   "outputs": [
    {
     "name": "stdout",
     "output_type": "stream",
     "text": [
      "<class 'pandas.core.frame.DataFrame'>\n",
      "RangeIndex: 43824 entries, 0 to 43823\n",
      "Data columns (total 13 columns):\n",
      " #   Column  Non-Null Count  Dtype  \n",
      "---  ------  --------------  -----  \n",
      " 0   No      43824 non-null  int64  \n",
      " 1   year    43824 non-null  int64  \n",
      " 2   month   43824 non-null  int64  \n",
      " 3   day     43824 non-null  int64  \n",
      " 4   hour    43824 non-null  int64  \n",
      " 5   pm2.5   41757 non-null  float64\n",
      " 6   DEWP    43824 non-null  int64  \n",
      " 7   TEMP    43824 non-null  float64\n",
      " 8   PRES    43824 non-null  float64\n",
      " 9   cbwd    43824 non-null  object \n",
      " 10  Iws     43824 non-null  float64\n",
      " 11  Is      43824 non-null  int64  \n",
      " 12  Ir      43824 non-null  int64  \n",
      "dtypes: float64(4), int64(8), object(1)\n",
      "memory usage: 4.3+ MB\n"
     ]
    }
   ],
   "source": [
    "df.info()"
   ]
  },
  {
   "cell_type": "code",
   "execution_count": 15,
   "id": "7057a37e",
   "metadata": {},
   "outputs": [
    {
     "data": {
      "text/plain": [
       "<Axes: >"
      ]
     },
     "execution_count": 15,
     "metadata": {},
     "output_type": "execute_result"
    },
    {
     "data": {
      "image/png": "[encoded data removed]",
      "text/plain": [
       "<Figure size 1000x400 with 1 Axes>"
      ]
     },
     "metadata": {},
     "output_type": "display_data"
    }
   ],
   "source": [
    "df[\"pm2.5\"].plot()"
   ]
  },
  {
   "cell_type": "code",
   "execution_count": 6,
   "id": "83e2b651",
   "metadata": {
    "scrolled": true
   },
   "outputs": [
    {
     "data": {
      "text/plain": [
       "<Axes: ylabel='Frequency'>"
      ]
     },
     "execution_count": 6,
     "metadata": {},
     "output_type": "execute_result"
    },
    {
     "data": {
      "image/png": "[encoded data removed]",
      "text/plain": [
       "<Figure size 1000x400 with 1 Axes>"
      ]
     },
     "metadata": {},
     "output_type": "display_data"
    }
   ],
   "source": [
    "df.plot(kind=\"hist\", y=\"TEMP\", bins=60)"
   ]
  },
  {
   "cell_type": "markdown",
   "id": "abfc2443",
   "metadata": {},
   "source": [
    "histogram are for continious data, for discreet dataset, plot the value_counts() on a bar chart"
   ]
  },
  {
   "cell_type": "code",
   "execution_count": 8,
   "id": "ff97c3bb",
   "metadata": {
    "scrolled": false
   },
   "outputs": [
    {
     "data": {
      "text/plain": [
       "SE    15290\n",
       "NW    14150\n",
       "cv     9387\n",
       "NE     4997\n",
       "Name: cbwd, dtype: int64"
      ]
     },
     "execution_count": 8,
     "metadata": {},
     "output_type": "execute_result"
    }
   ],
   "source": [
    "df[\"cbwd\"].value_counts()"
   ]
  },
  {
   "cell_type": "code",
   "execution_count": 9,
   "id": "d0f60d2b",
   "metadata": {},
   "outputs": [
    {
     "data": {
      "text/plain": [
       "<Axes: >"
      ]
     },
     "execution_count": 9,
     "metadata": {},
     "output_type": "execute_result"
    },
    {
     "data": {
      "image/png": "[encoded data removed]",
      "text/plain": [
       "<Figure size 1000x400 with 1 Axes>"
      ]
     },
     "metadata": {},
     "output_type": "display_data"
    }
   ],
   "source": [
    "df[\"cbwd\"].value_counts().plot(kind=\"bar\")"
   ]
  },
  {
   "cell_type": "code",
   "execution_count": 28,
   "id": "3e26ba4c",
   "metadata": {},
   "outputs": [
    {
     "data": {
      "text/html": [
       "<div>\n",
       "<style scoped>\n",
       "    .dataframe tbody tr th:only-of-type {\n",
       "        vertical-align: middle;\n",
       "    }\n",
       "\n",
       "    .dataframe tbody tr th {\n",
       "        vertical-align: top;\n",
       "    }\n",
       "\n",
       "    .dataframe thead th {\n",
       "        text-align: right;\n",
       "    }\n",
       "</style>\n",
       "<table border=\"1\" class=\"dataframe\">\n",
       "  <thead>\n",
       "    <tr style=\"text-align: right;\">\n",
       "      <th></th>\n",
       "      <th>No</th>\n",
       "      <th>year</th>\n",
       "      <th>month</th>\n",
       "      <th>day</th>\n",
       "      <th>hour</th>\n",
       "      <th>pm2.5</th>\n",
       "      <th>DEWP</th>\n",
       "      <th>TEMP</th>\n",
       "      <th>PRES</th>\n",
       "      <th>cbwd</th>\n",
       "      <th>Iws</th>\n",
       "      <th>Is</th>\n",
       "      <th>Ir</th>\n",
       "    </tr>\n",
       "  </thead>\n",
       "  <tbody>\n",
       "    <tr>\n",
       "      <th>3</th>\n",
       "      <td>4</td>\n",
       "      <td>2010</td>\n",
       "      <td>1</td>\n",
       "      <td>1</td>\n",
       "      <td>3</td>\n",
       "      <td>NaN</td>\n",
       "      <td>-21</td>\n",
       "      <td>-14.0</td>\n",
       "      <td>1019.0</td>\n",
       "      <td>NW</td>\n",
       "      <td>9.84</td>\n",
       "      <td>0</td>\n",
       "      <td>0</td>\n",
       "    </tr>\n",
       "    <tr>\n",
       "      <th>79</th>\n",
       "      <td>80</td>\n",
       "      <td>2010</td>\n",
       "      <td>1</td>\n",
       "      <td>4</td>\n",
       "      <td>7</td>\n",
       "      <td>29.0</td>\n",
       "      <td>-21</td>\n",
       "      <td>-13.0</td>\n",
       "      <td>1027.0</td>\n",
       "      <td>NW</td>\n",
       "      <td>73.75</td>\n",
       "      <td>0</td>\n",
       "      <td>0</td>\n",
       "    </tr>\n",
       "    <tr>\n",
       "      <th>80</th>\n",
       "      <td>81</td>\n",
       "      <td>2010</td>\n",
       "      <td>1</td>\n",
       "      <td>4</td>\n",
       "      <td>8</td>\n",
       "      <td>26.0</td>\n",
       "      <td>-22</td>\n",
       "      <td>-13.0</td>\n",
       "      <td>1028.0</td>\n",
       "      <td>NW</td>\n",
       "      <td>80.90</td>\n",
       "      <td>0</td>\n",
       "      <td>0</td>\n",
       "    </tr>\n",
       "    <tr>\n",
       "      <th>81</th>\n",
       "      <td>82</td>\n",
       "      <td>2010</td>\n",
       "      <td>1</td>\n",
       "      <td>4</td>\n",
       "      <td>9</td>\n",
       "      <td>27.0</td>\n",
       "      <td>-22</td>\n",
       "      <td>-13.0</td>\n",
       "      <td>1029.0</td>\n",
       "      <td>NW</td>\n",
       "      <td>90.73</td>\n",
       "      <td>0</td>\n",
       "      <td>0</td>\n",
       "    </tr>\n",
       "    <tr>\n",
       "      <th>93</th>\n",
       "      <td>94</td>\n",
       "      <td>2010</td>\n",
       "      <td>1</td>\n",
       "      <td>4</td>\n",
       "      <td>21</td>\n",
       "      <td>33.0</td>\n",
       "      <td>-24</td>\n",
       "      <td>-13.0</td>\n",
       "      <td>1034.0</td>\n",
       "      <td>NW</td>\n",
       "      <td>187.27</td>\n",
       "      <td>0</td>\n",
       "      <td>0</td>\n",
       "    </tr>\n",
       "    <tr>\n",
       "      <th>...</th>\n",
       "      <td>...</td>\n",
       "      <td>...</td>\n",
       "      <td>...</td>\n",
       "      <td>...</td>\n",
       "      <td>...</td>\n",
       "      <td>...</td>\n",
       "      <td>...</td>\n",
       "      <td>...</td>\n",
       "      <td>...</td>\n",
       "      <td>...</td>\n",
       "      <td>...</td>\n",
       "      <td>...</td>\n",
       "      <td>...</td>\n",
       "    </tr>\n",
       "    <tr>\n",
       "      <th>43812</th>\n",
       "      <td>43813</td>\n",
       "      <td>2014</td>\n",
       "      <td>12</td>\n",
       "      <td>31</td>\n",
       "      <td>12</td>\n",
       "      <td>17.0</td>\n",
       "      <td>-22</td>\n",
       "      <td>0.0</td>\n",
       "      <td>1033.0</td>\n",
       "      <td>NW</td>\n",
       "      <td>177.44</td>\n",
       "      <td>0</td>\n",
       "      <td>0</td>\n",
       "    </tr>\n",
       "    <tr>\n",
       "      <th>43813</th>\n",
       "      <td>43814</td>\n",
       "      <td>2014</td>\n",
       "      <td>12</td>\n",
       "      <td>31</td>\n",
       "      <td>13</td>\n",
       "      <td>11.0</td>\n",
       "      <td>-27</td>\n",
       "      <td>0.0</td>\n",
       "      <td>1032.0</td>\n",
       "      <td>NW</td>\n",
       "      <td>186.38</td>\n",
       "      <td>0</td>\n",
       "      <td>0</td>\n",
       "    </tr>\n",
       "    <tr>\n",
       "      <th>43814</th>\n",
       "      <td>43815</td>\n",
       "      <td>2014</td>\n",
       "      <td>12</td>\n",
       "      <td>31</td>\n",
       "      <td>14</td>\n",
       "      <td>9.0</td>\n",
       "      <td>-27</td>\n",
       "      <td>1.0</td>\n",
       "      <td>1032.0</td>\n",
       "      <td>NW</td>\n",
       "      <td>196.21</td>\n",
       "      <td>0</td>\n",
       "      <td>0</td>\n",
       "    </tr>\n",
       "    <tr>\n",
       "      <th>43815</th>\n",
       "      <td>43816</td>\n",
       "      <td>2014</td>\n",
       "      <td>12</td>\n",
       "      <td>31</td>\n",
       "      <td>15</td>\n",
       "      <td>11.0</td>\n",
       "      <td>-26</td>\n",
       "      <td>1.0</td>\n",
       "      <td>1032.0</td>\n",
       "      <td>NW</td>\n",
       "      <td>205.15</td>\n",
       "      <td>0</td>\n",
       "      <td>0</td>\n",
       "    </tr>\n",
       "    <tr>\n",
       "      <th>43816</th>\n",
       "      <td>43817</td>\n",
       "      <td>2014</td>\n",
       "      <td>12</td>\n",
       "      <td>31</td>\n",
       "      <td>16</td>\n",
       "      <td>8.0</td>\n",
       "      <td>-23</td>\n",
       "      <td>0.0</td>\n",
       "      <td>1032.0</td>\n",
       "      <td>NW</td>\n",
       "      <td>214.09</td>\n",
       "      <td>0</td>\n",
       "      <td>0</td>\n",
       "    </tr>\n",
       "  </tbody>\n",
       "</table>\n",
       "<p>9824 rows × 13 columns</p>\n",
       "</div>"
      ],
      "text/plain": [
       "          No  year  month  day  hour  pm2.5  DEWP  TEMP    PRES cbwd     Iws  \\\n",
       "3          4  2010      1    1     3    NaN   -21 -14.0  1019.0   NW    9.84   \n",
       "79        80  2010      1    4     7   29.0   -21 -13.0  1027.0   NW   73.75   \n",
       "80        81  2010      1    4     8   26.0   -22 -13.0  1028.0   NW   80.90   \n",
       "81        82  2010      1    4     9   27.0   -22 -13.0  1029.0   NW   90.73   \n",
       "93        94  2010      1    4    21   33.0   -24 -13.0  1034.0   NW  187.27   \n",
       "...      ...   ...    ...  ...   ...    ...   ...   ...     ...  ...     ...   \n",
       "43812  43813  2014     12   31    12   17.0   -22   0.0  1033.0   NW  177.44   \n",
       "43813  43814  2014     12   31    13   11.0   -27   0.0  1032.0   NW  186.38   \n",
       "43814  43815  2014     12   31    14    9.0   -27   1.0  1032.0   NW  196.21   \n",
       "43815  43816  2014     12   31    15   11.0   -26   1.0  1032.0   NW  205.15   \n",
       "43816  43817  2014     12   31    16    8.0   -23   0.0  1032.0   NW  214.09   \n",
       "\n",
       "       Is  Ir  \n",
       "3       0   0  \n",
       "79      0   0  \n",
       "80      0   0  \n",
       "81      0   0  \n",
       "93      0   0  \n",
       "...    ..  ..  \n",
       "43812   0   0  \n",
       "43813   0   0  \n",
       "43814   0   0  \n",
       "43815   0   0  \n",
       "43816   0   0  \n",
       "\n",
       "[9824 rows x 13 columns]"
      ]
     },
     "execution_count": 28,
     "metadata": {},
     "output_type": "execute_result"
    }
   ],
   "source": [
    "df[df[\"TEMP\"].astype(int) & 12 == 0]"
   ]
  },
  {
   "cell_type": "markdown",
   "id": "f6450192",
   "metadata": {},
   "source": [
    "power curve distribution"
   ]
  },
  {
   "cell_type": "code",
   "execution_count": 23,
   "id": "7254a100",
   "metadata": {
    "scrolled": true
   },
   "outputs": [
    {
     "data": {
      "text/plain": [
       "<Axes: ylabel='Frequency'>"
      ]
     },
     "execution_count": 23,
     "metadata": {},
     "output_type": "execute_result"
    },
    {
     "data": {
      "image/png": "[encoded data removed]",
      "text/plain": [
       "<Figure size 1000x400 with 1 Axes>"
      ]
     },
     "metadata": {},
     "output_type": "display_data"
    }
   ],
   "source": [
    "df.plot(kind=\"hist\", y=\"pm2.5\", bins=100)"
   ]
  },
  {
   "cell_type": "code",
   "execution_count": 29,
   "id": "74c7d2b0",
   "metadata": {},
   "outputs": [],
   "source": [
    "test_series = pd.Series([-1, 0, 1])"
   ]
  },
  {
   "cell_type": "code",
   "execution_count": 31,
   "id": "26383c56",
   "metadata": {
    "scrolled": true
   },
   "outputs": [
    {
     "data": {
      "text/plain": [
       "<Axes: ylabel='Frequency'>"
      ]
     },
     "execution_count": 31,
     "metadata": {},
     "output_type": "execute_result"
    },
    {
     "data": {
      "image/png": "[encoded data removed]",
      "text/plain": [
       "<Figure size 1000x400 with 1 Axes>"
      ]
     },
     "metadata": {},
     "output_type": "display_data"
    }
   ],
   "source": [
    "test_series.plot(kind=\"hist\", bins=2)"
   ]
  },
  {
   "cell_type": "markdown",
   "id": "d834e1e5",
   "metadata": {},
   "source": [
    "Hours appears the same number of times"
   ]
  },
  {
   "cell_type": "code",
   "execution_count": 33,
   "id": "65e4f852",
   "metadata": {
    "scrolled": true
   },
   "outputs": [
    {
     "data": {
      "text/plain": [
       "<Axes: ylabel='Frequency'>"
      ]
     },
     "execution_count": 33,
     "metadata": {},
     "output_type": "execute_result"
    },
    {
     "data": {
      "image/png": "[encoded data removed]",
      "text/plain": [
       "<Figure size 1000x400 with 1 Axes>"
      ]
     },
     "metadata": {},
     "output_type": "display_data"
    }
   ],
   "source": [
    "df.plot(kind=\"hist\", y=\"hour\", bins=12)"
   ]
  },
  {
   "cell_type": "code",
   "execution_count": 36,
   "id": "8e3f4b75",
   "metadata": {},
   "outputs": [
    {
     "data": {
      "text/plain": [
       "<Axes: ylabel='Frequency'>"
      ]
     },
     "execution_count": 36,
     "metadata": {},
     "output_type": "execute_result"
    },
    {
     "data": {
      "image/png": "[encoded data removed]",
      "text/plain": [
       "<Figure size 1000x400 with 1 Axes>"
      ]
     },
     "metadata": {},
     "output_type": "display_data"
    }
   ],
   "source": [
    "df.plot(kind=\"hist\", y=\"PRES\", bins=54)"
   ]
  },
  {
   "cell_type": "markdown",
   "id": "14cb13eb",
   "metadata": {},
   "source": [
    "## Scatter plots"
   ]
  },
  {
   "cell_type": "code",
   "execution_count": 37,
   "id": "6d03604b",
   "metadata": {},
   "outputs": [
    {
     "data": {
      "text/plain": [
       "<Axes: xlabel='DEWP', ylabel='TEMP'>"
      ]
     },
     "execution_count": 37,
     "metadata": {},
     "output_type": "execute_result"
    },
    {
     "data": {
      "image/png": "[encoded data removed]",
      "text/plain": [
       "<Figure size 1000x400 with 1 Axes>"
      ]
     },
     "metadata": {},
     "output_type": "display_data"
    }
   ],
   "source": [
    "df.plot(kind=\"scatter\", x=\"DEWP\", y=\"TEMP\")"
   ]
  },
  {
   "cell_type": "markdown",
   "id": "3633f02d",
   "metadata": {},
   "source": [
    "Dew points go up as temperature goes up"
   ]
  },
  {
   "cell_type": "code",
   "execution_count": 39,
   "id": "a1b571d7",
   "metadata": {},
   "outputs": [
    {
     "data": {
      "text/plain": [
       "<Axes: xlabel='TEMP', ylabel='pm2.5'>"
      ]
     },
     "execution_count": 39,
     "metadata": {},
     "output_type": "execute_result"
    },
    {
     "data": {
      "image/png": "[encoded data removed]",
      "text/plain": [
       "<Figure size 1000x400 with 1 Axes>"
      ]
     },
     "metadata": {},
     "output_type": "display_data"
    }
   ],
   "source": [
    "df.plot(kind=\"scatter\", x=\"TEMP\", y=\"pm2.5\")"
   ]
  },
  {
   "cell_type": "code",
   "execution_count": 41,
   "id": "e272f14d",
   "metadata": {},
   "outputs": [
    {
     "data": {
      "text/plain": [
       "<Axes: xlabel='pm2.5', ylabel='Iws'>"
      ]
     },
     "execution_count": 41,
     "metadata": {},
     "output_type": "execute_result"
    },
    {
     "data": {
      "image/png": "[encoded data removed]",
      "text/plain": [
       "<Figure size 1000x400 with 1 Axes>"
      ]
     },
     "metadata": {},
     "output_type": "display_data"
    }
   ],
   "source": [
    "df.plot(kind=\"scatter\", x=\"pm2.5\", y=\"Iws\")"
   ]
  },
  {
   "cell_type": "code",
   "execution_count": 44,
   "id": "cf45c139",
   "metadata": {},
   "outputs": [
    {
     "data": {
      "text/plain": [
       "<Axes: xlabel='day', ylabel='hour'>"
      ]
     },
     "execution_count": 44,
     "metadata": {},
     "output_type": "execute_result"
    },
    {
     "data": {
      "image/png": "[encoded data removed]",
      "text/plain": [
       "<Figure size 1000x400 with 1 Axes>"
      ]
     },
     "metadata": {},
     "output_type": "display_data"
    }
   ],
   "source": [
    "df.plot(kind=\"scatter\", x=\"day\", y=\"hour\")"
   ]
  },
  {
   "cell_type": "code",
   "execution_count": 45,
   "id": "35f192cd",
   "metadata": {},
   "outputs": [
    {
     "data": {
      "text/plain": [
       "<Axes: xlabel='month', ylabel='TEMP'>"
      ]
     },
     "execution_count": 45,
     "metadata": {},
     "output_type": "execute_result"
    },
    {
     "data": {
      "image/png": "[encoded data removed]",
      "text/plain": [
       "<Figure size 1000x400 with 1 Axes>"
      ]
     },
     "metadata": {},
     "output_type": "display_data"
    }
   ],
   "source": [
    "df.plot(kind=\"scatter\", x=\"month\", y=\"TEMP\")"
   ]
  },
  {
   "cell_type": "code",
   "execution_count": 46,
   "id": "c1c062c6",
   "metadata": {},
   "outputs": [
    {
     "ename": "TypeError",
     "evalue": "no numeric data to plot",
     "output_type": "error",
     "traceback": [
      "\u001b[1;31m---------------------------------------------------------------------------\u001b[0m",
      "\u001b[1;31mTypeError\u001b[0m                                 Traceback (most recent call last)",
      "Cell \u001b[1;32mIn[46], line 1\u001b[0m\n\u001b[1;32m----> 1\u001b[0m df\u001b[38;5;241m.\u001b[39mplot(kind\u001b[38;5;241m=\u001b[39m\u001b[38;5;124m\"\u001b[39m\u001b[38;5;124mhist\u001b[39m\u001b[38;5;124m\"\u001b[39m, y\u001b[38;5;241m=\u001b[39m\u001b[38;5;124m\"\u001b[39m\u001b[38;5;124mcbwd\u001b[39m\u001b[38;5;124m\"\u001b[39m)\n",
      "File \u001b[1;32m~\\anaconda3\\Lib\\site-packages\\pandas\\plotting\\_core.py:1000\u001b[0m, in \u001b[0;36mPlotAccessor.__call__\u001b[1;34m(self, *args, **kwargs)\u001b[0m\n\u001b[0;32m    997\u001b[0m             label_name \u001b[38;5;241m=\u001b[39m label_kw \u001b[38;5;129;01mor\u001b[39;00m data\u001b[38;5;241m.\u001b[39mcolumns\n\u001b[0;32m    998\u001b[0m             data\u001b[38;5;241m.\u001b[39mcolumns \u001b[38;5;241m=\u001b[39m label_name\n\u001b[1;32m-> 1000\u001b[0m \u001b[38;5;28;01mreturn\u001b[39;00m plot_backend\u001b[38;5;241m.\u001b[39mplot(data, kind\u001b[38;5;241m=\u001b[39mkind, \u001b[38;5;241m*\u001b[39m\u001b[38;5;241m*\u001b[39mkwargs)\n",
      "File \u001b[1;32m~\\anaconda3\\Lib\\site-packages\\pandas\\plotting\\_matplotlib\\__init__.py:71\u001b[0m, in \u001b[0;36mplot\u001b[1;34m(data, kind, **kwargs)\u001b[0m\n\u001b[0;32m     69\u001b[0m         kwargs[\u001b[38;5;124m\"\u001b[39m\u001b[38;5;124max\u001b[39m\u001b[38;5;124m\"\u001b[39m] \u001b[38;5;241m=\u001b[39m \u001b[38;5;28mgetattr\u001b[39m(ax, \u001b[38;5;124m\"\u001b[39m\u001b[38;5;124mleft_ax\u001b[39m\u001b[38;5;124m\"\u001b[39m, ax)\n\u001b[0;32m     70\u001b[0m plot_obj \u001b[38;5;241m=\u001b[39m PLOT_CLASSES[kind](data, \u001b[38;5;241m*\u001b[39m\u001b[38;5;241m*\u001b[39mkwargs)\n\u001b[1;32m---> 71\u001b[0m plot_obj\u001b[38;5;241m.\u001b[39mgenerate()\n\u001b[0;32m     72\u001b[0m plot_obj\u001b[38;5;241m.\u001b[39mdraw()\n\u001b[0;32m     73\u001b[0m \u001b[38;5;28;01mreturn\u001b[39;00m plot_obj\u001b[38;5;241m.\u001b[39mresult\n",
      "File \u001b[1;32m~\\anaconda3\\Lib\\site-packages\\pandas\\plotting\\_matplotlib\\core.py:450\u001b[0m, in \u001b[0;36mMPLPlot.generate\u001b[1;34m(self)\u001b[0m\n\u001b[0;32m    448\u001b[0m \u001b[38;5;28;01mdef\u001b[39;00m \u001b[38;5;21mgenerate\u001b[39m(\u001b[38;5;28mself\u001b[39m) \u001b[38;5;241m-\u001b[39m\u001b[38;5;241m>\u001b[39m \u001b[38;5;28;01mNone\u001b[39;00m:\n\u001b[0;32m    449\u001b[0m     \u001b[38;5;28mself\u001b[39m\u001b[38;5;241m.\u001b[39m_args_adjust()\n\u001b[1;32m--> 450\u001b[0m     \u001b[38;5;28mself\u001b[39m\u001b[38;5;241m.\u001b[39m_compute_plot_data()\n\u001b[0;32m    451\u001b[0m     \u001b[38;5;28mself\u001b[39m\u001b[38;5;241m.\u001b[39m_setup_subplots()\n\u001b[0;32m    452\u001b[0m     \u001b[38;5;28mself\u001b[39m\u001b[38;5;241m.\u001b[39m_make_plot()\n",
      "File \u001b[1;32m~\\anaconda3\\Lib\\site-packages\\pandas\\plotting\\_matplotlib\\core.py:635\u001b[0m, in \u001b[0;36mMPLPlot._compute_plot_data\u001b[1;34m(self)\u001b[0m\n\u001b[0;32m    633\u001b[0m \u001b[38;5;66;03m# no non-numeric frames or series allowed\u001b[39;00m\n\u001b[0;32m    634\u001b[0m \u001b[38;5;28;01mif\u001b[39;00m is_empty:\n\u001b[1;32m--> 635\u001b[0m     \u001b[38;5;28;01mraise\u001b[39;00m \u001b[38;5;167;01mTypeError\u001b[39;00m(\u001b[38;5;124m\"\u001b[39m\u001b[38;5;124mno numeric data to plot\u001b[39m\u001b[38;5;124m\"\u001b[39m)\n\u001b[0;32m    637\u001b[0m \u001b[38;5;28mself\u001b[39m\u001b[38;5;241m.\u001b[39mdata \u001b[38;5;241m=\u001b[39m numeric_data\u001b[38;5;241m.\u001b[39mapply(\u001b[38;5;28mself\u001b[39m\u001b[38;5;241m.\u001b[39m_convert_to_ndarray)\n",
      "\u001b[1;31mTypeError\u001b[0m: no numeric data to plot"
     ]
    }
   ],
   "source": [
    "df.plot(kind=\"hist\", y=\"cbwd\")"
   ]
  },
  {
   "cell_type": "code",
   "execution_count": 47,
   "id": "10eff739",
   "metadata": {},
   "outputs": [
    {
     "data": {
      "text/plain": [
       "SE    15290\n",
       "NW    14150\n",
       "cv     9387\n",
       "NE     4997\n",
       "Name: cbwd, dtype: int64"
      ]
     },
     "execution_count": 47,
     "metadata": {},
     "output_type": "execute_result"
    }
   ],
   "source": [
    "df[\"cbwd\"].value_counts()"
   ]
  },
  {
   "cell_type": "code",
   "execution_count": 48,
   "id": "5c746fa4",
   "metadata": {},
   "outputs": [
    {
     "data": {
      "text/plain": [
       "<Axes: >"
      ]
     },
     "execution_count": 48,
     "metadata": {},
     "output_type": "execute_result"
    },
    {
     "data": {
      "image/png": "[encoded data removed]",
      "text/plain": [
       "<Figure size 1000x400 with 1 Axes>"
      ]
     },
     "metadata": {},
     "output_type": "display_data"
    }
   ],
   "source": [
    "df[\"cbwd\"].value_counts().plot(kind=\"bar\")"
   ]
  },
  {
   "cell_type": "code",
   "execution_count": 49,
   "id": "465f17f9",
   "metadata": {},
   "outputs": [],
   "source": [
    "pd.set_option('display.max_rows', 999)"
   ]
  },
  {
   "cell_type": "markdown",
   "id": "573d6af5",
   "metadata": {},
   "source": [
    "## Sorting! "
   ]
  },
  {
   "cell_type": "code",
   "execution_count": 10,
   "id": "f32ffc7e",
   "metadata": {
    "scrolled": true
   },
   "outputs": [
    {
     "data": {
      "text/plain": [
       "994.0"
      ]
     },
     "execution_count": 10,
     "metadata": {},
     "output_type": "execute_result"
    }
   ],
   "source": [
    "df['pm2.5'].max()"
   ]
  },
  {
   "cell_type": "code",
   "execution_count": 37,
   "id": "8566914c",
   "metadata": {},
   "outputs": [],
   "source": [
    "sorted_df = df.sort_values(by=['pm2.5'], ascending=False)"
   ]
  },
  {
   "cell_type": "code",
   "execution_count": 35,
   "id": "744dc3e6",
   "metadata": {},
   "outputs": [
    {
     "data": {
      "text/plain": [
       "<Axes: >"
      ]
     },
     "execution_count": 35,
     "metadata": {},
     "output_type": "execute_result"
    },
    {
     "data": {
      "image/png": "[encoded data removed]",
      "text/plain": [
       "<Figure size 1000x400 with 1 Axes>"
      ]
     },
     "metadata": {},
     "output_type": "display_data"
    }
   ],
   "source": [
    "sorted_df[:25].plot(kind='bar', y='pm2.5')"
   ]
  },
  {
   "cell_type": "code",
   "execution_count": 26,
   "id": "140eaa24",
   "metadata": {},
   "outputs": [
    {
     "data": {
      "text/plain": [
       "No        18050\n",
       "year       2012\n",
       "month         1\n",
       "day          23\n",
       "hour          1\n",
       "pm2.5     994.0\n",
       "DEWP        -24\n",
       "TEMP      -12.0\n",
       "PRES     1032.0\n",
       "cbwd         NW\n",
       "Iws        4.92\n",
       "Is            0\n",
       "Ir            0\n",
       "Name: 18049, dtype: object"
      ]
     },
     "execution_count": 26,
     "metadata": {},
     "output_type": "execute_result"
    }
   ],
   "source": [
    "sorted_df.iloc[0]"
   ]
  },
  {
   "cell_type": "markdown",
   "id": "96c3bc7e",
   "metadata": {},
   "source": [
    "Ambigious syntax (index or first item of the array?)"
   ]
  },
  {
   "cell_type": "code",
   "execution_count": 27,
   "id": "ddc53177",
   "metadata": {},
   "outputs": [
    {
     "ename": "KeyError",
     "evalue": "0",
     "output_type": "error",
     "traceback": [
      "\u001b[1;31m---------------------------------------------------------------------------\u001b[0m",
      "\u001b[1;31mKeyError\u001b[0m                                  Traceback (most recent call last)",
      "File \u001b[1;32m~\\anaconda3\\Lib\\site-packages\\pandas\\core\\indexes\\base.py:3802\u001b[0m, in \u001b[0;36mIndex.get_loc\u001b[1;34m(self, key, method, tolerance)\u001b[0m\n\u001b[0;32m   3801\u001b[0m \u001b[38;5;28;01mtry\u001b[39;00m:\n\u001b[1;32m-> 3802\u001b[0m     \u001b[38;5;28;01mreturn\u001b[39;00m \u001b[38;5;28mself\u001b[39m\u001b[38;5;241m.\u001b[39m_engine\u001b[38;5;241m.\u001b[39mget_loc(casted_key)\n\u001b[0;32m   3803\u001b[0m \u001b[38;5;28;01mexcept\u001b[39;00m \u001b[38;5;167;01mKeyError\u001b[39;00m \u001b[38;5;28;01mas\u001b[39;00m err:\n",
      "File \u001b[1;32m~\\anaconda3\\Lib\\site-packages\\pandas\\_libs\\index.pyx:138\u001b[0m, in \u001b[0;36mpandas._libs.index.IndexEngine.get_loc\u001b[1;34m()\u001b[0m\n",
      "File \u001b[1;32m~\\anaconda3\\Lib\\site-packages\\pandas\\_libs\\index.pyx:165\u001b[0m, in \u001b[0;36mpandas._libs.index.IndexEngine.get_loc\u001b[1;34m()\u001b[0m\n",
      "File \u001b[1;32mpandas\\_libs\\hashtable_class_helper.pxi:5745\u001b[0m, in \u001b[0;36mpandas._libs.hashtable.PyObjectHashTable.get_item\u001b[1;34m()\u001b[0m\n",
      "File \u001b[1;32mpandas\\_libs\\hashtable_class_helper.pxi:5753\u001b[0m, in \u001b[0;36mpandas._libs.hashtable.PyObjectHashTable.get_item\u001b[1;34m()\u001b[0m\n",
      "\u001b[1;31mKeyError\u001b[0m: 0",
      "\nThe above exception was the direct cause of the following exception:\n",
      "\u001b[1;31mKeyError\u001b[0m                                  Traceback (most recent call last)",
      "Cell \u001b[1;32mIn[27], line 1\u001b[0m\n\u001b[1;32m----> 1\u001b[0m sorted_df[\u001b[38;5;241m0\u001b[39m]\n",
      "File \u001b[1;32m~\\anaconda3\\Lib\\site-packages\\pandas\\core\\frame.py:3807\u001b[0m, in \u001b[0;36mDataFrame.__getitem__\u001b[1;34m(self, key)\u001b[0m\n\u001b[0;32m   3805\u001b[0m \u001b[38;5;28;01mif\u001b[39;00m \u001b[38;5;28mself\u001b[39m\u001b[38;5;241m.\u001b[39mcolumns\u001b[38;5;241m.\u001b[39mnlevels \u001b[38;5;241m>\u001b[39m \u001b[38;5;241m1\u001b[39m:\n\u001b[0;32m   3806\u001b[0m     \u001b[38;5;28;01mreturn\u001b[39;00m \u001b[38;5;28mself\u001b[39m\u001b[38;5;241m.\u001b[39m_getitem_multilevel(key)\n\u001b[1;32m-> 3807\u001b[0m indexer \u001b[38;5;241m=\u001b[39m \u001b[38;5;28mself\u001b[39m\u001b[38;5;241m.\u001b[39mcolumns\u001b[38;5;241m.\u001b[39mget_loc(key)\n\u001b[0;32m   3808\u001b[0m \u001b[38;5;28;01mif\u001b[39;00m is_integer(indexer):\n\u001b[0;32m   3809\u001b[0m     indexer \u001b[38;5;241m=\u001b[39m [indexer]\n",
      "File \u001b[1;32m~\\anaconda3\\Lib\\site-packages\\pandas\\core\\indexes\\base.py:3804\u001b[0m, in \u001b[0;36mIndex.get_loc\u001b[1;34m(self, key, method, tolerance)\u001b[0m\n\u001b[0;32m   3802\u001b[0m     \u001b[38;5;28;01mreturn\u001b[39;00m \u001b[38;5;28mself\u001b[39m\u001b[38;5;241m.\u001b[39m_engine\u001b[38;5;241m.\u001b[39mget_loc(casted_key)\n\u001b[0;32m   3803\u001b[0m \u001b[38;5;28;01mexcept\u001b[39;00m \u001b[38;5;167;01mKeyError\u001b[39;00m \u001b[38;5;28;01mas\u001b[39;00m err:\n\u001b[1;32m-> 3804\u001b[0m     \u001b[38;5;28;01mraise\u001b[39;00m \u001b[38;5;167;01mKeyError\u001b[39;00m(key) \u001b[38;5;28;01mfrom\u001b[39;00m \u001b[38;5;21;01merr\u001b[39;00m\n\u001b[0;32m   3805\u001b[0m \u001b[38;5;28;01mexcept\u001b[39;00m \u001b[38;5;167;01mTypeError\u001b[39;00m:\n\u001b[0;32m   3806\u001b[0m     \u001b[38;5;66;03m# If we have a listlike key, _check_indexing_error will raise\u001b[39;00m\n\u001b[0;32m   3807\u001b[0m     \u001b[38;5;66;03m#  InvalidIndexError. Otherwise we fall through and re-raise\u001b[39;00m\n\u001b[0;32m   3808\u001b[0m     \u001b[38;5;66;03m#  the TypeError.\u001b[39;00m\n\u001b[0;32m   3809\u001b[0m     \u001b[38;5;28mself\u001b[39m\u001b[38;5;241m.\u001b[39m_check_indexing_error(key)\n",
      "\u001b[1;31mKeyError\u001b[0m: 0"
     ]
    }
   ],
   "source": [
    "sorted_df[0]"
   ]
  },
  {
   "cell_type": "code",
   "execution_count": 38,
   "id": "3b18de5c",
   "metadata": {},
   "outputs": [
    {
     "data": {
      "text/html": [
       "<div>\n",
       "<style scoped>\n",
       "    .dataframe tbody tr th:only-of-type {\n",
       "        vertical-align: middle;\n",
       "    }\n",
       "\n",
       "    .dataframe tbody tr th {\n",
       "        vertical-align: top;\n",
       "    }\n",
       "\n",
       "    .dataframe thead th {\n",
       "        text-align: right;\n",
       "    }\n",
       "</style>\n",
       "<table border=\"1\" class=\"dataframe\">\n",
       "  <thead>\n",
       "    <tr style=\"text-align: right;\">\n",
       "      <th></th>\n",
       "      <th>No</th>\n",
       "      <th>year</th>\n",
       "      <th>month</th>\n",
       "      <th>day</th>\n",
       "      <th>hour</th>\n",
       "      <th>pm2.5</th>\n",
       "      <th>DEWP</th>\n",
       "      <th>TEMP</th>\n",
       "      <th>PRES</th>\n",
       "      <th>cbwd</th>\n",
       "      <th>Iws</th>\n",
       "      <th>Is</th>\n",
       "      <th>Ir</th>\n",
       "    </tr>\n",
       "  </thead>\n",
       "  <tbody>\n",
       "    <tr>\n",
       "      <th>26587</th>\n",
       "      <td>26588</td>\n",
       "      <td>2013</td>\n",
       "      <td>1</td>\n",
       "      <td>12</td>\n",
       "      <td>19</td>\n",
       "      <td>824.0</td>\n",
       "      <td>-8</td>\n",
       "      <td>-7.0</td>\n",
       "      <td>1022.0</td>\n",
       "      <td>cv</td>\n",
       "      <td>0.89</td>\n",
       "      <td>0</td>\n",
       "      <td>0</td>\n",
       "    </tr>\n",
       "    <tr>\n",
       "      <th>26585</th>\n",
       "      <td>26586</td>\n",
       "      <td>2013</td>\n",
       "      <td>1</td>\n",
       "      <td>12</td>\n",
       "      <td>17</td>\n",
       "      <td>810.0</td>\n",
       "      <td>-7</td>\n",
       "      <td>-4.0</td>\n",
       "      <td>1021.0</td>\n",
       "      <td>SE</td>\n",
       "      <td>9.84</td>\n",
       "      <td>0</td>\n",
       "      <td>0</td>\n",
       "    </tr>\n",
       "    <tr>\n",
       "      <th>26591</th>\n",
       "      <td>26592</td>\n",
       "      <td>2013</td>\n",
       "      <td>1</td>\n",
       "      <td>12</td>\n",
       "      <td>23</td>\n",
       "      <td>805.0</td>\n",
       "      <td>-10</td>\n",
       "      <td>-9.0</td>\n",
       "      <td>1024.0</td>\n",
       "      <td>NW</td>\n",
       "      <td>1.79</td>\n",
       "      <td>0</td>\n",
       "      <td>0</td>\n",
       "    </tr>\n",
       "    <tr>\n",
       "      <th>26583</th>\n",
       "      <td>26584</td>\n",
       "      <td>2013</td>\n",
       "      <td>1</td>\n",
       "      <td>12</td>\n",
       "      <td>15</td>\n",
       "      <td>802.0</td>\n",
       "      <td>-7</td>\n",
       "      <td>-1.0</td>\n",
       "      <td>1021.0</td>\n",
       "      <td>SE</td>\n",
       "      <td>7.16</td>\n",
       "      <td>0</td>\n",
       "      <td>0</td>\n",
       "    </tr>\n",
       "    <tr>\n",
       "      <th>1930</th>\n",
       "      <td>1931</td>\n",
       "      <td>2010</td>\n",
       "      <td>3</td>\n",
       "      <td>22</td>\n",
       "      <td>10</td>\n",
       "      <td>784.0</td>\n",
       "      <td>-8</td>\n",
       "      <td>11.0</td>\n",
       "      <td>1013.0</td>\n",
       "      <td>NW</td>\n",
       "      <td>11.18</td>\n",
       "      <td>0</td>\n",
       "      <td>0</td>\n",
       "    </tr>\n",
       "    <tr>\n",
       "      <th>26586</th>\n",
       "      <td>26587</td>\n",
       "      <td>2013</td>\n",
       "      <td>1</td>\n",
       "      <td>12</td>\n",
       "      <td>18</td>\n",
       "      <td>776.0</td>\n",
       "      <td>-8</td>\n",
       "      <td>-6.0</td>\n",
       "      <td>1021.0</td>\n",
       "      <td>SE</td>\n",
       "      <td>11.63</td>\n",
       "      <td>0</td>\n",
       "      <td>0</td>\n",
       "    </tr>\n",
       "    <tr>\n",
       "      <th>1931</th>\n",
       "      <td>1932</td>\n",
       "      <td>2010</td>\n",
       "      <td>3</td>\n",
       "      <td>22</td>\n",
       "      <td>11</td>\n",
       "      <td>761.0</td>\n",
       "      <td>-10</td>\n",
       "      <td>12.0</td>\n",
       "      <td>1013.0</td>\n",
       "      <td>NW</td>\n",
       "      <td>18.33</td>\n",
       "      <td>0</td>\n",
       "      <td>0</td>\n",
       "    </tr>\n",
       "    <tr>\n",
       "      <th>26592</th>\n",
       "      <td>26593</td>\n",
       "      <td>2013</td>\n",
       "      <td>1</td>\n",
       "      <td>13</td>\n",
       "      <td>0</td>\n",
       "      <td>744.0</td>\n",
       "      <td>-9</td>\n",
       "      <td>-8.0</td>\n",
       "      <td>1024.0</td>\n",
       "      <td>NW</td>\n",
       "      <td>2.68</td>\n",
       "      <td>0</td>\n",
       "      <td>0</td>\n",
       "    </tr>\n",
       "    <tr>\n",
       "      <th>26593</th>\n",
       "      <td>26594</td>\n",
       "      <td>2013</td>\n",
       "      <td>1</td>\n",
       "      <td>13</td>\n",
       "      <td>1</td>\n",
       "      <td>731.0</td>\n",
       "      <td>-8</td>\n",
       "      <td>-7.0</td>\n",
       "      <td>1025.0</td>\n",
       "      <td>NW</td>\n",
       "      <td>4.47</td>\n",
       "      <td>0</td>\n",
       "      <td>0</td>\n",
       "    </tr>\n",
       "    <tr>\n",
       "      <th>26594</th>\n",
       "      <td>26595</td>\n",
       "      <td>2013</td>\n",
       "      <td>1</td>\n",
       "      <td>13</td>\n",
       "      <td>2</td>\n",
       "      <td>722.0</td>\n",
       "      <td>-6</td>\n",
       "      <td>-5.0</td>\n",
       "      <td>1025.0</td>\n",
       "      <td>SE</td>\n",
       "      <td>0.89</td>\n",
       "      <td>0</td>\n",
       "      <td>0</td>\n",
       "    </tr>\n",
       "    <tr>\n",
       "      <th>1876</th>\n",
       "      <td>1877</td>\n",
       "      <td>2010</td>\n",
       "      <td>3</td>\n",
       "      <td>20</td>\n",
       "      <td>4</td>\n",
       "      <td>700.0</td>\n",
       "      <td>2</td>\n",
       "      <td>6.0</td>\n",
       "      <td>1000.0</td>\n",
       "      <td>NW</td>\n",
       "      <td>4.92</td>\n",
       "      <td>0</td>\n",
       "      <td>0</td>\n",
       "    </tr>\n",
       "    <tr>\n",
       "      <th>26595</th>\n",
       "      <td>26596</td>\n",
       "      <td>2013</td>\n",
       "      <td>1</td>\n",
       "      <td>13</td>\n",
       "      <td>3</td>\n",
       "      <td>684.0</td>\n",
       "      <td>-6</td>\n",
       "      <td>-5.0</td>\n",
       "      <td>1025.0</td>\n",
       "      <td>NW</td>\n",
       "      <td>1.79</td>\n",
       "      <td>0</td>\n",
       "      <td>0</td>\n",
       "    </tr>\n",
       "    <tr>\n",
       "      <th>26597</th>\n",
       "      <td>26598</td>\n",
       "      <td>2013</td>\n",
       "      <td>1</td>\n",
       "      <td>13</td>\n",
       "      <td>5</td>\n",
       "      <td>673.0</td>\n",
       "      <td>-6</td>\n",
       "      <td>-5.0</td>\n",
       "      <td>1025.0</td>\n",
       "      <td>cv</td>\n",
       "      <td>0.89</td>\n",
       "      <td>0</td>\n",
       "      <td>0</td>\n",
       "    </tr>\n",
       "    <tr>\n",
       "      <th>35428</th>\n",
       "      <td>35429</td>\n",
       "      <td>2014</td>\n",
       "      <td>1</td>\n",
       "      <td>16</td>\n",
       "      <td>4</td>\n",
       "      <td>671.0</td>\n",
       "      <td>-7</td>\n",
       "      <td>-3.0</td>\n",
       "      <td>1027.0</td>\n",
       "      <td>NE</td>\n",
       "      <td>1.79</td>\n",
       "      <td>0</td>\n",
       "      <td>0</td>\n",
       "    </tr>\n",
       "    <tr>\n",
       "      <th>35425</th>\n",
       "      <td>35426</td>\n",
       "      <td>2014</td>\n",
       "      <td>1</td>\n",
       "      <td>16</td>\n",
       "      <td>1</td>\n",
       "      <td>659.0</td>\n",
       "      <td>-9</td>\n",
       "      <td>-3.0</td>\n",
       "      <td>1027.0</td>\n",
       "      <td>cv</td>\n",
       "      <td>0.89</td>\n",
       "      <td>0</td>\n",
       "      <td>0</td>\n",
       "    </tr>\n",
       "    <tr>\n",
       "      <th>26596</th>\n",
       "      <td>26597</td>\n",
       "      <td>2013</td>\n",
       "      <td>1</td>\n",
       "      <td>13</td>\n",
       "      <td>4</td>\n",
       "      <td>651.0</td>\n",
       "      <td>-6</td>\n",
       "      <td>-5.0</td>\n",
       "      <td>1025.0</td>\n",
       "      <td>NW</td>\n",
       "      <td>3.58</td>\n",
       "      <td>0</td>\n",
       "      <td>0</td>\n",
       "    </tr>\n",
       "    <tr>\n",
       "      <th>35427</th>\n",
       "      <td>35428</td>\n",
       "      <td>2014</td>\n",
       "      <td>1</td>\n",
       "      <td>16</td>\n",
       "      <td>3</td>\n",
       "      <td>651.0</td>\n",
       "      <td>-8</td>\n",
       "      <td>-3.0</td>\n",
       "      <td>1027.0</td>\n",
       "      <td>cv</td>\n",
       "      <td>2.67</td>\n",
       "      <td>0</td>\n",
       "      <td>0</td>\n",
       "    </tr>\n",
       "    <tr>\n",
       "      <th>36145</th>\n",
       "      <td>36146</td>\n",
       "      <td>2014</td>\n",
       "      <td>2</td>\n",
       "      <td>15</td>\n",
       "      <td>1</td>\n",
       "      <td>649.0</td>\n",
       "      <td>-8</td>\n",
       "      <td>-5.0</td>\n",
       "      <td>1024.0</td>\n",
       "      <td>cv</td>\n",
       "      <td>0.89</td>\n",
       "      <td>0</td>\n",
       "      <td>0</td>\n",
       "    </tr>\n",
       "  </tbody>\n",
       "</table>\n",
       "</div>"
      ],
      "text/plain": [
       "          No  year  month  day  hour  pm2.5  DEWP  TEMP    PRES cbwd    Iws  \\\n",
       "26587  26588  2013      1   12    19  824.0    -8  -7.0  1022.0   cv   0.89   \n",
       "26585  26586  2013      1   12    17  810.0    -7  -4.0  1021.0   SE   9.84   \n",
       "26591  26592  2013      1   12    23  805.0   -10  -9.0  1024.0   NW   1.79   \n",
       "26583  26584  2013      1   12    15  802.0    -7  -1.0  1021.0   SE   7.16   \n",
       "1930    1931  2010      3   22    10  784.0    -8  11.0  1013.0   NW  11.18   \n",
       "26586  26587  2013      1   12    18  776.0    -8  -6.0  1021.0   SE  11.63   \n",
       "1931    1932  2010      3   22    11  761.0   -10  12.0  1013.0   NW  18.33   \n",
       "26592  26593  2013      1   13     0  744.0    -9  -8.0  1024.0   NW   2.68   \n",
       "26593  26594  2013      1   13     1  731.0    -8  -7.0  1025.0   NW   4.47   \n",
       "26594  26595  2013      1   13     2  722.0    -6  -5.0  1025.0   SE   0.89   \n",
       "1876    1877  2010      3   20     4  700.0     2   6.0  1000.0   NW   4.92   \n",
       "26595  26596  2013      1   13     3  684.0    -6  -5.0  1025.0   NW   1.79   \n",
       "26597  26598  2013      1   13     5  673.0    -6  -5.0  1025.0   cv   0.89   \n",
       "35428  35429  2014      1   16     4  671.0    -7  -3.0  1027.0   NE   1.79   \n",
       "35425  35426  2014      1   16     1  659.0    -9  -3.0  1027.0   cv   0.89   \n",
       "26596  26597  2013      1   13     4  651.0    -6  -5.0  1025.0   NW   3.58   \n",
       "35427  35428  2014      1   16     3  651.0    -8  -3.0  1027.0   cv   2.67   \n",
       "36145  36146  2014      2   15     1  649.0    -8  -5.0  1024.0   cv   0.89   \n",
       "\n",
       "       Is  Ir  \n",
       "26587   0   0  \n",
       "26585   0   0  \n",
       "26591   0   0  \n",
       "26583   0   0  \n",
       "1930    0   0  \n",
       "26586   0   0  \n",
       "1931    0   0  \n",
       "26592   0   0  \n",
       "26593   0   0  \n",
       "26594   0   0  \n",
       "1876    0   0  \n",
       "26595   0   0  \n",
       "26597   0   0  \n",
       "35428   0   0  \n",
       "35425   0   0  \n",
       "26596   0   0  \n",
       "35427   0   0  \n",
       "36145   0   0  "
      ]
     },
     "execution_count": 38,
     "metadata": {},
     "output_type": "execute_result"
    }
   ],
   "source": [
    "sorted_df[7:25]"
   ]
  },
  {
   "cell_type": "markdown",
   "id": "850f8b5a",
   "metadata": {},
   "source": [
    "## Grouping"
   ]
  },
  {
   "cell_type": "code",
   "execution_count": 42,
   "id": "ece7eff0",
   "metadata": {},
   "outputs": [
    {
     "data": {
      "text/plain": [
       "115.05906078939786"
      ]
     },
     "execution_count": 42,
     "metadata": {},
     "output_type": "execute_result"
    }
   ],
   "source": [
    "df[df['month'] == 1]['pm2.5'].mean()"
   ]
  },
  {
   "cell_type": "code",
   "execution_count": 47,
   "id": "8dd78ae6",
   "metadata": {},
   "outputs": [
    {
     "name": "stdout",
     "output_type": "stream",
     "text": [
      "2.0\n",
      "3.0\n",
      "3.0\n",
      "3.0\n",
      "4.0\n",
      "1.0\n",
      "2.0\n",
      "2.0\n",
      "0.0\n",
      "2.0\n",
      "2.0\n",
      "4.0\n"
     ]
    }
   ],
   "source": [
    "for i in range(1, 13):\n",
    "    print(df[df['month'] == i]['pm2.5'].min())"
   ]
  },
  {
   "cell_type": "code",
   "execution_count": 50,
   "id": "63eae151",
   "metadata": {},
   "outputs": [
    {
     "data": {
      "text/html": [
       "<div>\n",
       "<style scoped>\n",
       "    .dataframe tbody tr th:only-of-type {\n",
       "        vertical-align: middle;\n",
       "    }\n",
       "\n",
       "    .dataframe tbody tr th {\n",
       "        vertical-align: top;\n",
       "    }\n",
       "\n",
       "    .dataframe thead th {\n",
       "        text-align: right;\n",
       "    }\n",
       "</style>\n",
       "<table border=\"1\" class=\"dataframe\">\n",
       "  <thead>\n",
       "    <tr style=\"text-align: right;\">\n",
       "      <th></th>\n",
       "      <th>No</th>\n",
       "      <th>year</th>\n",
       "      <th>day</th>\n",
       "      <th>hour</th>\n",
       "      <th>pm2.5</th>\n",
       "      <th>DEWP</th>\n",
       "      <th>TEMP</th>\n",
       "      <th>PRES</th>\n",
       "      <th>Iws</th>\n",
       "      <th>Is</th>\n",
       "      <th>Ir</th>\n",
       "    </tr>\n",
       "    <tr>\n",
       "      <th>month</th>\n",
       "      <th></th>\n",
       "      <th></th>\n",
       "      <th></th>\n",
       "      <th></th>\n",
       "      <th></th>\n",
       "      <th></th>\n",
       "      <th></th>\n",
       "      <th></th>\n",
       "      <th></th>\n",
       "      <th></th>\n",
       "      <th></th>\n",
       "    </tr>\n",
       "  </thead>\n",
       "  <tbody>\n",
       "    <tr>\n",
       "      <th>1</th>\n",
       "      <td>35808</td>\n",
       "      <td>2014</td>\n",
       "      <td>31</td>\n",
       "      <td>23</td>\n",
       "      <td>994.0</td>\n",
       "      <td>-1</td>\n",
       "      <td>11.0</td>\n",
       "      <td>1046.0</td>\n",
       "      <td>585.60</td>\n",
       "      <td>27</td>\n",
       "      <td>5</td>\n",
       "    </tr>\n",
       "    <tr>\n",
       "      <th>2</th>\n",
       "      <td>36480</td>\n",
       "      <td>2014</td>\n",
       "      <td>29</td>\n",
       "      <td>23</td>\n",
       "      <td>980.0</td>\n",
       "      <td>3</td>\n",
       "      <td>16.0</td>\n",
       "      <td>1041.0</td>\n",
       "      <td>344.24</td>\n",
       "      <td>23</td>\n",
       "      <td>3</td>\n",
       "    </tr>\n",
       "    <tr>\n",
       "      <th>3</th>\n",
       "      <td>37224</td>\n",
       "      <td>2014</td>\n",
       "      <td>31</td>\n",
       "      <td>23</td>\n",
       "      <td>784.0</td>\n",
       "      <td>9</td>\n",
       "      <td>26.0</td>\n",
       "      <td>1042.0</td>\n",
       "      <td>356.26</td>\n",
       "      <td>14</td>\n",
       "      <td>11</td>\n",
       "    </tr>\n",
       "    <tr>\n",
       "      <th>4</th>\n",
       "      <td>37944</td>\n",
       "      <td>2014</td>\n",
       "      <td>30</td>\n",
       "      <td>23</td>\n",
       "      <td>580.0</td>\n",
       "      <td>16</td>\n",
       "      <td>31.0</td>\n",
       "      <td>1032.0</td>\n",
       "      <td>434.98</td>\n",
       "      <td>0</td>\n",
       "      <td>15</td>\n",
       "    </tr>\n",
       "    <tr>\n",
       "      <th>5</th>\n",
       "      <td>38688</td>\n",
       "      <td>2014</td>\n",
       "      <td>31</td>\n",
       "      <td>23</td>\n",
       "      <td>320.0</td>\n",
       "      <td>19</td>\n",
       "      <td>42.0</td>\n",
       "      <td>1020.0</td>\n",
       "      <td>310.22</td>\n",
       "      <td>0</td>\n",
       "      <td>22</td>\n",
       "    </tr>\n",
       "    <tr>\n",
       "      <th>6</th>\n",
       "      <td>39408</td>\n",
       "      <td>2014</td>\n",
       "      <td>30</td>\n",
       "      <td>23</td>\n",
       "      <td>466.0</td>\n",
       "      <td>24</td>\n",
       "      <td>38.0</td>\n",
       "      <td>1019.0</td>\n",
       "      <td>206.98</td>\n",
       "      <td>0</td>\n",
       "      <td>13</td>\n",
       "    </tr>\n",
       "    <tr>\n",
       "      <th>7</th>\n",
       "      <td>40152</td>\n",
       "      <td>2014</td>\n",
       "      <td>31</td>\n",
       "      <td>23</td>\n",
       "      <td>390.0</td>\n",
       "      <td>28</td>\n",
       "      <td>41.0</td>\n",
       "      <td>1011.0</td>\n",
       "      <td>166.73</td>\n",
       "      <td>0</td>\n",
       "      <td>25</td>\n",
       "    </tr>\n",
       "    <tr>\n",
       "      <th>8</th>\n",
       "      <td>40896</td>\n",
       "      <td>2014</td>\n",
       "      <td>31</td>\n",
       "      <td>23</td>\n",
       "      <td>360.0</td>\n",
       "      <td>27</td>\n",
       "      <td>37.0</td>\n",
       "      <td>1018.0</td>\n",
       "      <td>159.59</td>\n",
       "      <td>0</td>\n",
       "      <td>23</td>\n",
       "    </tr>\n",
       "    <tr>\n",
       "      <th>9</th>\n",
       "      <td>41616</td>\n",
       "      <td>2014</td>\n",
       "      <td>30</td>\n",
       "      <td>23</td>\n",
       "      <td>455.0</td>\n",
       "      <td>24</td>\n",
       "      <td>34.0</td>\n",
       "      <td>1029.0</td>\n",
       "      <td>253.93</td>\n",
       "      <td>0</td>\n",
       "      <td>36</td>\n",
       "    </tr>\n",
       "    <tr>\n",
       "      <th>10</th>\n",
       "      <td>42360</td>\n",
       "      <td>2014</td>\n",
       "      <td>31</td>\n",
       "      <td>23</td>\n",
       "      <td>562.0</td>\n",
       "      <td>17</td>\n",
       "      <td>26.0</td>\n",
       "      <td>1043.0</td>\n",
       "      <td>278.50</td>\n",
       "      <td>0</td>\n",
       "      <td>13</td>\n",
       "    </tr>\n",
       "    <tr>\n",
       "      <th>11</th>\n",
       "      <td>43080</td>\n",
       "      <td>2014</td>\n",
       "      <td>30</td>\n",
       "      <td>23</td>\n",
       "      <td>569.0</td>\n",
       "      <td>13</td>\n",
       "      <td>21.0</td>\n",
       "      <td>1040.0</td>\n",
       "      <td>490.38</td>\n",
       "      <td>2</td>\n",
       "      <td>32</td>\n",
       "    </tr>\n",
       "    <tr>\n",
       "      <th>12</th>\n",
       "      <td>43824</td>\n",
       "      <td>2014</td>\n",
       "      <td>31</td>\n",
       "      <td>23</td>\n",
       "      <td>615.0</td>\n",
       "      <td>1</td>\n",
       "      <td>15.0</td>\n",
       "      <td>1042.0</td>\n",
       "      <td>565.49</td>\n",
       "      <td>19</td>\n",
       "      <td>3</td>\n",
       "    </tr>\n",
       "  </tbody>\n",
       "</table>\n",
       "</div>"
      ],
      "text/plain": [
       "          No  year  day  hour  pm2.5  DEWP  TEMP    PRES     Iws  Is  Ir\n",
       "month                                                                   \n",
       "1      35808  2014   31    23  994.0    -1  11.0  1046.0  585.60  27   5\n",
       "2      36480  2014   29    23  980.0     3  16.0  1041.0  344.24  23   3\n",
       "3      37224  2014   31    23  784.0     9  26.0  1042.0  356.26  14  11\n",
       "4      37944  2014   30    23  580.0    16  31.0  1032.0  434.98   0  15\n",
       "5      38688  2014   31    23  320.0    19  42.0  1020.0  310.22   0  22\n",
       "6      39408  2014   30    23  466.0    24  38.0  1019.0  206.98   0  13\n",
       "7      40152  2014   31    23  390.0    28  41.0  1011.0  166.73   0  25\n",
       "8      40896  2014   31    23  360.0    27  37.0  1018.0  159.59   0  23\n",
       "9      41616  2014   30    23  455.0    24  34.0  1029.0  253.93   0  36\n",
       "10     42360  2014   31    23  562.0    17  26.0  1043.0  278.50   0  13\n",
       "11     43080  2014   30    23  569.0    13  21.0  1040.0  490.38   2  32\n",
       "12     43824  2014   31    23  615.0     1  15.0  1042.0  565.49  19   3"
      ]
     },
     "execution_count": 50,
     "metadata": {},
     "output_type": "execute_result"
    }
   ],
   "source": [
    "df.groupby('month').max(numeric_only=True)"
   ]
  },
  {
   "cell_type": "code",
   "execution_count": 51,
   "id": "601d7a3d",
   "metadata": {},
   "outputs": [
    {
     "data": {
      "text/html": [
       "<div>\n",
       "<style scoped>\n",
       "    .dataframe tbody tr th:only-of-type {\n",
       "        vertical-align: middle;\n",
       "    }\n",
       "\n",
       "    .dataframe tbody tr th {\n",
       "        vertical-align: top;\n",
       "    }\n",
       "\n",
       "    .dataframe thead th {\n",
       "        text-align: right;\n",
       "    }\n",
       "</style>\n",
       "<table border=\"1\" class=\"dataframe\">\n",
       "  <thead>\n",
       "    <tr style=\"text-align: right;\">\n",
       "      <th></th>\n",
       "      <th>No</th>\n",
       "      <th>year</th>\n",
       "      <th>day</th>\n",
       "      <th>hour</th>\n",
       "      <th>pm2.5</th>\n",
       "      <th>DEWP</th>\n",
       "      <th>TEMP</th>\n",
       "      <th>PRES</th>\n",
       "      <th>Iws</th>\n",
       "      <th>Is</th>\n",
       "      <th>Ir</th>\n",
       "    </tr>\n",
       "    <tr>\n",
       "      <th>month</th>\n",
       "      <th></th>\n",
       "      <th></th>\n",
       "      <th></th>\n",
       "      <th></th>\n",
       "      <th></th>\n",
       "      <th></th>\n",
       "      <th></th>\n",
       "      <th></th>\n",
       "      <th></th>\n",
       "      <th></th>\n",
       "      <th></th>\n",
       "    </tr>\n",
       "  </thead>\n",
       "  <tbody>\n",
       "    <tr>\n",
       "      <th>1</th>\n",
       "      <td>12402.221668</td>\n",
       "      <td>1.414404</td>\n",
       "      <td>8.945474</td>\n",
       "      <td>6.923117</td>\n",
       "      <td>128.316354</td>\n",
       "      <td>6.232290</td>\n",
       "      <td>4.929169</td>\n",
       "      <td>6.130997</td>\n",
       "      <td>72.580026</td>\n",
       "      <td>1.614562</td>\n",
       "      <td>0.121543</td>\n",
       "    </tr>\n",
       "    <tr>\n",
       "      <th>2</th>\n",
       "      <td>12358.020123</td>\n",
       "      <td>1.409398</td>\n",
       "      <td>8.141706</td>\n",
       "      <td>6.923210</td>\n",
       "      <td>121.640071</td>\n",
       "      <td>7.207011</td>\n",
       "      <td>4.831596</td>\n",
       "      <td>6.291095</td>\n",
       "      <td>34.300577</td>\n",
       "      <td>1.670588</td>\n",
       "      <td>0.066556</td>\n",
       "    </tr>\n",
       "    <tr>\n",
       "      <th>3</th>\n",
       "      <td>12402.221668</td>\n",
       "      <td>1.414404</td>\n",
       "      <td>8.945474</td>\n",
       "      <td>6.923117</td>\n",
       "      <td>93.027608</td>\n",
       "      <td>7.566794</td>\n",
       "      <td>6.056706</td>\n",
       "      <td>7.122781</td>\n",
       "      <td>46.527133</td>\n",
       "      <td>0.836057</td>\n",
       "      <td>0.660049</td>\n",
       "    </tr>\n",
       "    <tr>\n",
       "      <th>4</th>\n",
       "      <td>12402.159173</td>\n",
       "      <td>1.414410</td>\n",
       "      <td>8.656644</td>\n",
       "      <td>6.923148</td>\n",
       "      <td>66.168748</td>\n",
       "      <td>8.204051</td>\n",
       "      <td>5.792584</td>\n",
       "      <td>6.287531</td>\n",
       "      <td>54.173251</td>\n",
       "      <td>0.000000</td>\n",
       "      <td>1.038022</td>\n",
       "    </tr>\n",
       "    <tr>\n",
       "      <th>5</th>\n",
       "      <td>12402.221668</td>\n",
       "      <td>1.414404</td>\n",
       "      <td>8.945474</td>\n",
       "      <td>6.923117</td>\n",
       "      <td>54.531846</td>\n",
       "      <td>6.813818</td>\n",
       "      <td>5.619426</td>\n",
       "      <td>5.446276</td>\n",
       "      <td>43.980778</td>\n",
       "      <td>0.000000</td>\n",
       "      <td>1.473228</td>\n",
       "    </tr>\n",
       "    <tr>\n",
       "      <th>6</th>\n",
       "      <td>12402.159173</td>\n",
       "      <td>1.414410</td>\n",
       "      <td>8.656644</td>\n",
       "      <td>6.923148</td>\n",
       "      <td>66.192781</td>\n",
       "      <td>3.810174</td>\n",
       "      <td>4.524121</td>\n",
       "      <td>4.473241</td>\n",
       "      <td>16.811042</td>\n",
       "      <td>0.000000</td>\n",
       "      <td>1.064481</td>\n",
       "    </tr>\n",
       "    <tr>\n",
       "      <th>7</th>\n",
       "      <td>12402.221668</td>\n",
       "      <td>1.414404</td>\n",
       "      <td>8.945474</td>\n",
       "      <td>6.923117</td>\n",
       "      <td>67.813333</td>\n",
       "      <td>3.388429</td>\n",
       "      <td>3.817748</td>\n",
       "      <td>3.658038</td>\n",
       "      <td>18.500589</td>\n",
       "      <td>0.000000</td>\n",
       "      <td>2.299433</td>\n",
       "    </tr>\n",
       "    <tr>\n",
       "      <th>8</th>\n",
       "      <td>12402.221668</td>\n",
       "      <td>1.414404</td>\n",
       "      <td>8.945474</td>\n",
       "      <td>6.923117</td>\n",
       "      <td>56.232455</td>\n",
       "      <td>4.023035</td>\n",
       "      <td>4.013342</td>\n",
       "      <td>4.318117</td>\n",
       "      <td>18.078717</td>\n",
       "      <td>0.000000</td>\n",
       "      <td>1.382958</td>\n",
       "    </tr>\n",
       "    <tr>\n",
       "      <th>9</th>\n",
       "      <td>12402.159173</td>\n",
       "      <td>1.414410</td>\n",
       "      <td>8.656644</td>\n",
       "      <td>6.923148</td>\n",
       "      <td>69.437596</td>\n",
       "      <td>5.688753</td>\n",
       "      <td>4.821519</td>\n",
       "      <td>4.331470</td>\n",
       "      <td>21.035138</td>\n",
       "      <td>0.000000</td>\n",
       "      <td>2.699296</td>\n",
       "    </tr>\n",
       "    <tr>\n",
       "      <th>10</th>\n",
       "      <td>12402.221668</td>\n",
       "      <td>1.414404</td>\n",
       "      <td>8.945474</td>\n",
       "      <td>6.923117</td>\n",
       "      <td>112.672334</td>\n",
       "      <td>6.524531</td>\n",
       "      <td>5.198816</td>\n",
       "      <td>5.637821</td>\n",
       "      <td>27.957517</td>\n",
       "      <td>0.000000</td>\n",
       "      <td>0.978416</td>\n",
       "    </tr>\n",
       "    <tr>\n",
       "      <th>11</th>\n",
       "      <td>12402.159173</td>\n",
       "      <td>1.414410</td>\n",
       "      <td>8.656644</td>\n",
       "      <td>6.923148</td>\n",
       "      <td>104.702632</td>\n",
       "      <td>7.491692</td>\n",
       "      <td>5.298421</td>\n",
       "      <td>5.208998</td>\n",
       "      <td>76.616732</td>\n",
       "      <td>0.040815</td>\n",
       "      <td>1.851440</td>\n",
       "    </tr>\n",
       "    <tr>\n",
       "      <th>12</th>\n",
       "      <td>12402.221668</td>\n",
       "      <td>1.414404</td>\n",
       "      <td>8.945474</td>\n",
       "      <td>6.923117</td>\n",
       "      <td>105.186038</td>\n",
       "      <td>6.296512</td>\n",
       "      <td>4.895729</td>\n",
       "      <td>7.141255</td>\n",
       "      <td>82.474663</td>\n",
       "      <td>0.939984</td>\n",
       "      <td>0.063481</td>\n",
       "    </tr>\n",
       "  </tbody>\n",
       "</table>\n",
       "</div>"
      ],
      "text/plain": [
       "                 No      year       day      hour       pm2.5      DEWP  \\\n",
       "month                                                                     \n",
       "1      12402.221668  1.414404  8.945474  6.923117  128.316354  6.232290   \n",
       "2      12358.020123  1.409398  8.141706  6.923210  121.640071  7.207011   \n",
       "3      12402.221668  1.414404  8.945474  6.923117   93.027608  7.566794   \n",
       "4      12402.159173  1.414410  8.656644  6.923148   66.168748  8.204051   \n",
       "5      12402.221668  1.414404  8.945474  6.923117   54.531846  6.813818   \n",
       "6      12402.159173  1.414410  8.656644  6.923148   66.192781  3.810174   \n",
       "7      12402.221668  1.414404  8.945474  6.923117   67.813333  3.388429   \n",
       "8      12402.221668  1.414404  8.945474  6.923117   56.232455  4.023035   \n",
       "9      12402.159173  1.414410  8.656644  6.923148   69.437596  5.688753   \n",
       "10     12402.221668  1.414404  8.945474  6.923117  112.672334  6.524531   \n",
       "11     12402.159173  1.414410  8.656644  6.923148  104.702632  7.491692   \n",
       "12     12402.221668  1.414404  8.945474  6.923117  105.186038  6.296512   \n",
       "\n",
       "           TEMP      PRES        Iws        Is        Ir  \n",
       "month                                                     \n",
       "1      4.929169  6.130997  72.580026  1.614562  0.121543  \n",
       "2      4.831596  6.291095  34.300577  1.670588  0.066556  \n",
       "3      6.056706  7.122781  46.527133  0.836057  0.660049  \n",
       "4      5.792584  6.287531  54.173251  0.000000  1.038022  \n",
       "5      5.619426  5.446276  43.980778  0.000000  1.473228  \n",
       "6      4.524121  4.473241  16.811042  0.000000  1.064481  \n",
       "7      3.817748  3.658038  18.500589  0.000000  2.299433  \n",
       "8      4.013342  4.318117  18.078717  0.000000  1.382958  \n",
       "9      4.821519  4.331470  21.035138  0.000000  2.699296  \n",
       "10     5.198816  5.637821  27.957517  0.000000  0.978416  \n",
       "11     5.298421  5.208998  76.616732  0.040815  1.851440  \n",
       "12     4.895729  7.141255  82.474663  0.939984  0.063481  "
      ]
     },
     "execution_count": 51,
     "metadata": {},
     "output_type": "execute_result"
    }
   ],
   "source": [
    "df.groupby('month').std(numeric_only=True)"
   ]
  },
  {
   "cell_type": "code",
   "execution_count": 52,
   "id": "ebc547d1",
   "metadata": {
    "scrolled": true
   },
   "outputs": [
    {
     "data": {
      "text/html": [
       "<div>\n",
       "<style scoped>\n",
       "    .dataframe tbody tr th:only-of-type {\n",
       "        vertical-align: middle;\n",
       "    }\n",
       "\n",
       "    .dataframe tbody tr th {\n",
       "        vertical-align: top;\n",
       "    }\n",
       "\n",
       "    .dataframe thead th {\n",
       "        text-align: right;\n",
       "    }\n",
       "</style>\n",
       "<table border=\"1\" class=\"dataframe\">\n",
       "  <thead>\n",
       "    <tr style=\"text-align: right;\">\n",
       "      <th></th>\n",
       "      <th>No</th>\n",
       "      <th>year</th>\n",
       "      <th>day</th>\n",
       "      <th>hour</th>\n",
       "      <th>pm2.5</th>\n",
       "      <th>DEWP</th>\n",
       "      <th>TEMP</th>\n",
       "      <th>PRES</th>\n",
       "      <th>cbwd</th>\n",
       "      <th>Iws</th>\n",
       "      <th>Is</th>\n",
       "      <th>Ir</th>\n",
       "    </tr>\n",
       "    <tr>\n",
       "      <th>month</th>\n",
       "      <th></th>\n",
       "      <th></th>\n",
       "      <th></th>\n",
       "      <th></th>\n",
       "      <th></th>\n",
       "      <th></th>\n",
       "      <th></th>\n",
       "      <th></th>\n",
       "      <th></th>\n",
       "      <th></th>\n",
       "      <th></th>\n",
       "      <th></th>\n",
       "    </tr>\n",
       "  </thead>\n",
       "  <tbody>\n",
       "    <tr>\n",
       "      <th>1</th>\n",
       "      <td>3720</td>\n",
       "      <td>3720</td>\n",
       "      <td>3720</td>\n",
       "      <td>3720</td>\n",
       "      <td>3471</td>\n",
       "      <td>3720</td>\n",
       "      <td>3720</td>\n",
       "      <td>3720</td>\n",
       "      <td>3720</td>\n",
       "      <td>3720</td>\n",
       "      <td>3720</td>\n",
       "      <td>3720</td>\n",
       "    </tr>\n",
       "    <tr>\n",
       "      <th>2</th>\n",
       "      <td>3384</td>\n",
       "      <td>3384</td>\n",
       "      <td>3384</td>\n",
       "      <td>3384</td>\n",
       "      <td>3373</td>\n",
       "      <td>3384</td>\n",
       "      <td>3384</td>\n",
       "      <td>3384</td>\n",
       "      <td>3384</td>\n",
       "      <td>3384</td>\n",
       "      <td>3384</td>\n",
       "      <td>3384</td>\n",
       "    </tr>\n",
       "    <tr>\n",
       "      <th>3</th>\n",
       "      <td>3720</td>\n",
       "      <td>3720</td>\n",
       "      <td>3720</td>\n",
       "      <td>3720</td>\n",
       "      <td>3556</td>\n",
       "      <td>3720</td>\n",
       "      <td>3720</td>\n",
       "      <td>3720</td>\n",
       "      <td>3720</td>\n",
       "      <td>3720</td>\n",
       "      <td>3720</td>\n",
       "      <td>3720</td>\n",
       "    </tr>\n",
       "    <tr>\n",
       "      <th>4</th>\n",
       "      <td>3600</td>\n",
       "      <td>3600</td>\n",
       "      <td>3600</td>\n",
       "      <td>3600</td>\n",
       "      <td>3405</td>\n",
       "      <td>3600</td>\n",
       "      <td>3600</td>\n",
       "      <td>3600</td>\n",
       "      <td>3600</td>\n",
       "      <td>3600</td>\n",
       "      <td>3600</td>\n",
       "      <td>3600</td>\n",
       "    </tr>\n",
       "    <tr>\n",
       "      <th>5</th>\n",
       "      <td>3720</td>\n",
       "      <td>3720</td>\n",
       "      <td>3720</td>\n",
       "      <td>3720</td>\n",
       "      <td>3609</td>\n",
       "      <td>3720</td>\n",
       "      <td>3720</td>\n",
       "      <td>3720</td>\n",
       "      <td>3720</td>\n",
       "      <td>3720</td>\n",
       "      <td>3720</td>\n",
       "      <td>3720</td>\n",
       "    </tr>\n",
       "    <tr>\n",
       "      <th>6</th>\n",
       "      <td>3600</td>\n",
       "      <td>3600</td>\n",
       "      <td>3600</td>\n",
       "      <td>3600</td>\n",
       "      <td>3405</td>\n",
       "      <td>3600</td>\n",
       "      <td>3600</td>\n",
       "      <td>3600</td>\n",
       "      <td>3600</td>\n",
       "      <td>3600</td>\n",
       "      <td>3600</td>\n",
       "      <td>3600</td>\n",
       "    </tr>\n",
       "    <tr>\n",
       "      <th>7</th>\n",
       "      <td>3720</td>\n",
       "      <td>3720</td>\n",
       "      <td>3720</td>\n",
       "      <td>3720</td>\n",
       "      <td>3647</td>\n",
       "      <td>3720</td>\n",
       "      <td>3720</td>\n",
       "      <td>3720</td>\n",
       "      <td>3720</td>\n",
       "      <td>3720</td>\n",
       "      <td>3720</td>\n",
       "      <td>3720</td>\n",
       "    </tr>\n",
       "    <tr>\n",
       "      <th>8</th>\n",
       "      <td>3720</td>\n",
       "      <td>3720</td>\n",
       "      <td>3720</td>\n",
       "      <td>3720</td>\n",
       "      <td>3337</td>\n",
       "      <td>3720</td>\n",
       "      <td>3720</td>\n",
       "      <td>3720</td>\n",
       "      <td>3720</td>\n",
       "      <td>3720</td>\n",
       "      <td>3720</td>\n",
       "      <td>3720</td>\n",
       "    </tr>\n",
       "    <tr>\n",
       "      <th>9</th>\n",
       "      <td>3600</td>\n",
       "      <td>3600</td>\n",
       "      <td>3600</td>\n",
       "      <td>3600</td>\n",
       "      <td>3333</td>\n",
       "      <td>3600</td>\n",
       "      <td>3600</td>\n",
       "      <td>3600</td>\n",
       "      <td>3600</td>\n",
       "      <td>3600</td>\n",
       "      <td>3600</td>\n",
       "      <td>3600</td>\n",
       "    </tr>\n",
       "    <tr>\n",
       "      <th>10</th>\n",
       "      <td>3720</td>\n",
       "      <td>3720</td>\n",
       "      <td>3720</td>\n",
       "      <td>3720</td>\n",
       "      <td>3579</td>\n",
       "      <td>3720</td>\n",
       "      <td>3720</td>\n",
       "      <td>3720</td>\n",
       "      <td>3720</td>\n",
       "      <td>3720</td>\n",
       "      <td>3720</td>\n",
       "      <td>3720</td>\n",
       "    </tr>\n",
       "    <tr>\n",
       "      <th>11</th>\n",
       "      <td>3600</td>\n",
       "      <td>3600</td>\n",
       "      <td>3600</td>\n",
       "      <td>3600</td>\n",
       "      <td>3501</td>\n",
       "      <td>3600</td>\n",
       "      <td>3600</td>\n",
       "      <td>3600</td>\n",
       "      <td>3600</td>\n",
       "      <td>3600</td>\n",
       "      <td>3600</td>\n",
       "      <td>3600</td>\n",
       "    </tr>\n",
       "    <tr>\n",
       "      <th>12</th>\n",
       "      <td>3720</td>\n",
       "      <td>3720</td>\n",
       "      <td>3720</td>\n",
       "      <td>3720</td>\n",
       "      <td>3541</td>\n",
       "      <td>3720</td>\n",
       "      <td>3720</td>\n",
       "      <td>3720</td>\n",
       "      <td>3720</td>\n",
       "      <td>3720</td>\n",
       "      <td>3720</td>\n",
       "      <td>3720</td>\n",
       "    </tr>\n",
       "  </tbody>\n",
       "</table>\n",
       "</div>"
      ],
      "text/plain": [
       "         No  year   day  hour  pm2.5  DEWP  TEMP  PRES  cbwd   Iws    Is    Ir\n",
       "month                                                                         \n",
       "1      3720  3720  3720  3720   3471  3720  3720  3720  3720  3720  3720  3720\n",
       "2      3384  3384  3384  3384   3373  3384  3384  3384  3384  3384  3384  3384\n",
       "3      3720  3720  3720  3720   3556  3720  3720  3720  3720  3720  3720  3720\n",
       "4      3600  3600  3600  3600   3405  3600  3600  3600  3600  3600  3600  3600\n",
       "5      3720  3720  3720  3720   3609  3720  3720  3720  3720  3720  3720  3720\n",
       "6      3600  3600  3600  3600   3405  3600  3600  3600  3600  3600  3600  3600\n",
       "7      3720  3720  3720  3720   3647  3720  3720  3720  3720  3720  3720  3720\n",
       "8      3720  3720  3720  3720   3337  3720  3720  3720  3720  3720  3720  3720\n",
       "9      3600  3600  3600  3600   3333  3600  3600  3600  3600  3600  3600  3600\n",
       "10     3720  3720  3720  3720   3579  3720  3720  3720  3720  3720  3720  3720\n",
       "11     3600  3600  3600  3600   3501  3600  3600  3600  3600  3600  3600  3600\n",
       "12     3720  3720  3720  3720   3541  3720  3720  3720  3720  3720  3720  3720"
      ]
     },
     "execution_count": 52,
     "metadata": {},
     "output_type": "execute_result"
    }
   ],
   "source": [
    "df.groupby('month').count()"
   ]
  },
  {
   "cell_type": "code",
   "execution_count": 53,
   "id": "ce9943b8",
   "metadata": {},
   "outputs": [
    {
     "data": {
      "text/html": [
       "<div>\n",
       "<style scoped>\n",
       "    .dataframe tbody tr th:only-of-type {\n",
       "        vertical-align: middle;\n",
       "    }\n",
       "\n",
       "    .dataframe tbody tr th {\n",
       "        vertical-align: top;\n",
       "    }\n",
       "\n",
       "    .dataframe thead th {\n",
       "        text-align: right;\n",
       "    }\n",
       "</style>\n",
       "<table border=\"1\" class=\"dataframe\">\n",
       "  <thead>\n",
       "    <tr style=\"text-align: right;\">\n",
       "      <th></th>\n",
       "      <th>No</th>\n",
       "      <th>year</th>\n",
       "      <th>month</th>\n",
       "      <th>day</th>\n",
       "      <th>hour</th>\n",
       "      <th>pm2.5</th>\n",
       "      <th>DEWP</th>\n",
       "      <th>TEMP</th>\n",
       "      <th>PRES</th>\n",
       "      <th>Iws</th>\n",
       "      <th>Is</th>\n",
       "      <th>Ir</th>\n",
       "    </tr>\n",
       "    <tr>\n",
       "      <th>cbwd</th>\n",
       "      <th></th>\n",
       "      <th></th>\n",
       "      <th></th>\n",
       "      <th></th>\n",
       "      <th></th>\n",
       "      <th></th>\n",
       "      <th></th>\n",
       "      <th></th>\n",
       "      <th></th>\n",
       "      <th></th>\n",
       "      <th></th>\n",
       "      <th></th>\n",
       "    </tr>\n",
       "  </thead>\n",
       "  <tbody>\n",
       "    <tr>\n",
       "      <th>NE</th>\n",
       "      <td>4997</td>\n",
       "      <td>4997</td>\n",
       "      <td>4997</td>\n",
       "      <td>4997</td>\n",
       "      <td>4997</td>\n",
       "      <td>4756</td>\n",
       "      <td>4997</td>\n",
       "      <td>4997</td>\n",
       "      <td>4997</td>\n",
       "      <td>4997</td>\n",
       "      <td>4997</td>\n",
       "      <td>4997</td>\n",
       "    </tr>\n",
       "    <tr>\n",
       "      <th>NW</th>\n",
       "      <td>14150</td>\n",
       "      <td>14150</td>\n",
       "      <td>14150</td>\n",
       "      <td>14150</td>\n",
       "      <td>14150</td>\n",
       "      <td>13484</td>\n",
       "      <td>14150</td>\n",
       "      <td>14150</td>\n",
       "      <td>14150</td>\n",
       "      <td>14150</td>\n",
       "      <td>14150</td>\n",
       "      <td>14150</td>\n",
       "    </tr>\n",
       "    <tr>\n",
       "      <th>SE</th>\n",
       "      <td>15290</td>\n",
       "      <td>15290</td>\n",
       "      <td>15290</td>\n",
       "      <td>15290</td>\n",
       "      <td>15290</td>\n",
       "      <td>14573</td>\n",
       "      <td>15290</td>\n",
       "      <td>15290</td>\n",
       "      <td>15290</td>\n",
       "      <td>15290</td>\n",
       "      <td>15290</td>\n",
       "      <td>15290</td>\n",
       "    </tr>\n",
       "    <tr>\n",
       "      <th>cv</th>\n",
       "      <td>9387</td>\n",
       "      <td>9387</td>\n",
       "      <td>9387</td>\n",
       "      <td>9387</td>\n",
       "      <td>9387</td>\n",
       "      <td>8944</td>\n",
       "      <td>9387</td>\n",
       "      <td>9387</td>\n",
       "      <td>9387</td>\n",
       "      <td>9387</td>\n",
       "      <td>9387</td>\n",
       "      <td>9387</td>\n",
       "    </tr>\n",
       "  </tbody>\n",
       "</table>\n",
       "</div>"
      ],
      "text/plain": [
       "         No   year  month    day   hour  pm2.5   DEWP   TEMP   PRES    Iws  \\\n",
       "cbwd                                                                         \n",
       "NE     4997   4997   4997   4997   4997   4756   4997   4997   4997   4997   \n",
       "NW    14150  14150  14150  14150  14150  13484  14150  14150  14150  14150   \n",
       "SE    15290  15290  15290  15290  15290  14573  15290  15290  15290  15290   \n",
       "cv     9387   9387   9387   9387   9387   8944   9387   9387   9387   9387   \n",
       "\n",
       "         Is     Ir  \n",
       "cbwd                \n",
       "NE     4997   4997  \n",
       "NW    14150  14150  \n",
       "SE    15290  15290  \n",
       "cv     9387   9387  "
      ]
     },
     "execution_count": 53,
     "metadata": {},
     "output_type": "execute_result"
    }
   ],
   "source": [
    "df.groupby('cbwd').count()"
   ]
  },
  {
   "cell_type": "code",
   "execution_count": 54,
   "id": "936bdf96",
   "metadata": {},
   "outputs": [],
   "source": [
    "mean_by_month_df = df.groupby('month').mean(numeric_only=True)"
   ]
  },
  {
   "cell_type": "code",
   "execution_count": 56,
   "id": "0dffcb27",
   "metadata": {
    "scrolled": true
   },
   "outputs": [
    {
     "data": {
      "text/html": [
       "<div>\n",
       "<style scoped>\n",
       "    .dataframe tbody tr th:only-of-type {\n",
       "        vertical-align: middle;\n",
       "    }\n",
       "\n",
       "    .dataframe tbody tr th {\n",
       "        vertical-align: top;\n",
       "    }\n",
       "\n",
       "    .dataframe thead th {\n",
       "        text-align: right;\n",
       "    }\n",
       "</style>\n",
       "<table border=\"1\" class=\"dataframe\">\n",
       "  <thead>\n",
       "    <tr style=\"text-align: right;\">\n",
       "      <th></th>\n",
       "      <th>No</th>\n",
       "      <th>year</th>\n",
       "      <th>day</th>\n",
       "      <th>hour</th>\n",
       "      <th>pm2.5</th>\n",
       "      <th>DEWP</th>\n",
       "      <th>TEMP</th>\n",
       "      <th>PRES</th>\n",
       "      <th>Iws</th>\n",
       "      <th>Is</th>\n",
       "      <th>Ir</th>\n",
       "    </tr>\n",
       "    <tr>\n",
       "      <th>month</th>\n",
       "      <th></th>\n",
       "      <th></th>\n",
       "      <th></th>\n",
       "      <th></th>\n",
       "      <th></th>\n",
       "      <th></th>\n",
       "      <th></th>\n",
       "      <th></th>\n",
       "      <th></th>\n",
       "      <th></th>\n",
       "      <th></th>\n",
       "    </tr>\n",
       "  </thead>\n",
       "  <tbody>\n",
       "    <tr>\n",
       "      <th>1</th>\n",
       "      <td>17902.1</td>\n",
       "      <td>2012.0</td>\n",
       "      <td>16.000000</td>\n",
       "      <td>11.5</td>\n",
       "      <td>115.059061</td>\n",
       "      <td>-16.035484</td>\n",
       "      <td>-4.553226</td>\n",
       "      <td>1028.830376</td>\n",
       "      <td>36.248516</td>\n",
       "      <td>0.204301</td>\n",
       "      <td>0.004032</td>\n",
       "    </tr>\n",
       "    <tr>\n",
       "      <th>2</th>\n",
       "      <td>18612.5</td>\n",
       "      <td>2012.0</td>\n",
       "      <td>14.602837</td>\n",
       "      <td>11.5</td>\n",
       "      <td>125.736140</td>\n",
       "      <td>-12.941489</td>\n",
       "      <td>-1.569149</td>\n",
       "      <td>1025.862145</td>\n",
       "      <td>18.074938</td>\n",
       "      <td>0.248227</td>\n",
       "      <td>0.002069</td>\n",
       "    </tr>\n",
       "    <tr>\n",
       "      <th>3</th>\n",
       "      <td>19322.9</td>\n",
       "      <td>2012.0</td>\n",
       "      <td>16.000000</td>\n",
       "      <td>11.5</td>\n",
       "      <td>97.757593</td>\n",
       "      <td>-8.890591</td>\n",
       "      <td>6.080914</td>\n",
       "      <td>1020.742204</td>\n",
       "      <td>26.959089</td>\n",
       "      <td>0.088978</td>\n",
       "      <td>0.078226</td>\n",
       "    </tr>\n",
       "    <tr>\n",
       "      <th>11</th>\n",
       "      <td>25190.9</td>\n",
       "      <td>2012.0</td>\n",
       "      <td>15.500000</td>\n",
       "      <td>11.5</td>\n",
       "      <td>105.762639</td>\n",
       "      <td>-6.058889</td>\n",
       "      <td>4.964444</td>\n",
       "      <td>1022.681250</td>\n",
       "      <td>38.114533</td>\n",
       "      <td>0.001111</td>\n",
       "      <td>0.196667</td>\n",
       "    </tr>\n",
       "    <tr>\n",
       "      <th>12</th>\n",
       "      <td>25922.9</td>\n",
       "      <td>2012.0</td>\n",
       "      <td>16.000000</td>\n",
       "      <td>11.5</td>\n",
       "      <td>98.200226</td>\n",
       "      <td>-14.768548</td>\n",
       "      <td>-2.297581</td>\n",
       "      <td>1026.692742</td>\n",
       "      <td>44.100500</td>\n",
       "      <td>0.101075</td>\n",
       "      <td>0.001882</td>\n",
       "    </tr>\n",
       "  </tbody>\n",
       "</table>\n",
       "</div>"
      ],
      "text/plain": [
       "            No    year        day  hour       pm2.5       DEWP      TEMP  \\\n",
       "month                                                                      \n",
       "1      17902.1  2012.0  16.000000  11.5  115.059061 -16.035484 -4.553226   \n",
       "2      18612.5  2012.0  14.602837  11.5  125.736140 -12.941489 -1.569149   \n",
       "3      19322.9  2012.0  16.000000  11.5   97.757593  -8.890591  6.080914   \n",
       "11     25190.9  2012.0  15.500000  11.5  105.762639  -6.058889  4.964444   \n",
       "12     25922.9  2012.0  16.000000  11.5   98.200226 -14.768548 -2.297581   \n",
       "\n",
       "              PRES        Iws        Is        Ir  \n",
       "month                                              \n",
       "1      1028.830376  36.248516  0.204301  0.004032  \n",
       "2      1025.862145  18.074938  0.248227  0.002069  \n",
       "3      1020.742204  26.959089  0.088978  0.078226  \n",
       "11     1022.681250  38.114533  0.001111  0.196667  \n",
       "12     1026.692742  44.100500  0.101075  0.001882  "
      ]
     },
     "execution_count": 56,
     "metadata": {},
     "output_type": "execute_result"
    }
   ],
   "source": [
    "mean_by_month_df[mean_by_month_df['Is'] > 0]"
   ]
  },
  {
   "cell_type": "markdown",
   "id": "a5650114",
   "metadata": {},
   "source": [
    "## Dictionaries, Sets, and Tuples!\n",
    "\n",
    "### Dictionaries\n",
    "Key-value store"
   ]
  },
  {
   "cell_type": "code",
   "execution_count": 71,
   "id": "5cf94d8e",
   "metadata": {},
   "outputs": [],
   "source": [
    "presidents = {'Obama': 'Hawaii', 'Clinton': 'Arkansas', 'Bush': 'Texas', 'Biden': \"Pennsylvania\", 'Harding': 'Pennsylvania'}"
   ]
  },
  {
   "cell_type": "code",
   "execution_count": 72,
   "id": "4a19711c",
   "metadata": {},
   "outputs": [
    {
     "data": {
      "text/plain": [
       "{'Obama': 'Hawaii',\n",
       " 'Clinton': 'Arkansas',\n",
       " 'Bush': 'Texas',\n",
       " 'Biden': 'Pennsylvania',\n",
       " 'Harding': 'Pennsylvania'}"
      ]
     },
     "execution_count": 72,
     "metadata": {},
     "output_type": "execute_result"
    }
   ],
   "source": [
    "presidents"
   ]
  },
  {
   "cell_type": "code",
   "execution_count": 73,
   "id": "36780879",
   "metadata": {
    "scrolled": true
   },
   "outputs": [
    {
     "data": {
      "text/plain": [
       "dict"
      ]
     },
     "execution_count": 73,
     "metadata": {},
     "output_type": "execute_result"
    }
   ],
   "source": [
    "type(presidents)"
   ]
  },
  {
   "cell_type": "code",
   "execution_count": 74,
   "id": "88eb73d8",
   "metadata": {
    "scrolled": true
   },
   "outputs": [
    {
     "data": {
      "text/plain": [
       "'Texas'"
      ]
     },
     "execution_count": 74,
     "metadata": {},
     "output_type": "execute_result"
    }
   ],
   "source": [
    "presidents['Bush']"
   ]
  },
  {
   "cell_type": "markdown",
   "id": "ea4c26c2",
   "metadata": {},
   "source": [
    "key is unique, data isn't "
   ]
  },
  {
   "cell_type": "markdown",
   "id": "e66ed02a",
   "metadata": {},
   "source": [
    "Hashing Algorithm (data -> unique integer)\n",
    "\n",
    "then keys can be stored in data structures, speeding up the search process\n",
    "\n",
    "Hashing Algorithm is not reverseable - turns string into number, but number can't be turned back into its original string\n",
    "\n",
    "The downside of hash is that it uses more allocated memory to store and perform operations"
   ]
  },
  {
   "cell_type": "code",
   "execution_count": 75,
   "id": "4b9d92d6",
   "metadata": {},
   "outputs": [],
   "source": [
    "example = {17: 'hello!', 9.6: ['hello', 'goodbye'], True: {'blah': \"cheese\"}}"
   ]
  },
  {
   "cell_type": "code",
   "execution_count": 76,
   "id": "3f6a2f52",
   "metadata": {},
   "outputs": [
    {
     "data": {
      "text/plain": [
       "'hello!'"
      ]
     },
     "execution_count": 76,
     "metadata": {},
     "output_type": "execute_result"
    }
   ],
   "source": [
    "example[17]"
   ]
  },
  {
   "cell_type": "markdown",
   "id": "92653f6c",
   "metadata": {},
   "source": [
    "The key can be almost every value - all hashable values. \n",
    "\n",
    "Other databases and lists can also be turned into keys"
   ]
  },
  {
   "cell_type": "markdown",
   "id": "9c68c4ee",
   "metadata": {},
   "source": [
    "### Add new key / value pairs to dictionaries"
   ]
  },
  {
   "cell_type": "code",
   "execution_count": 77,
   "id": "b12308da",
   "metadata": {},
   "outputs": [
    {
     "data": {
      "text/plain": [
       "{'Obama': 'Hawaii',\n",
       " 'Clinton': 'Arkansas',\n",
       " 'Bush': 'Texas',\n",
       " 'Biden': 'Pennsylvania',\n",
       " 'Harding': 'Pennsylvania'}"
      ]
     },
     "execution_count": 77,
     "metadata": {},
     "output_type": "execute_result"
    }
   ],
   "source": [
    "presidents"
   ]
  },
  {
   "cell_type": "code",
   "execution_count": 78,
   "id": "16e2c926",
   "metadata": {},
   "outputs": [],
   "source": [
    "presidents[\"Parrish\"] = \"Utah\""
   ]
  },
  {
   "cell_type": "code",
   "execution_count": 79,
   "id": "5e5d059c",
   "metadata": {},
   "outputs": [
    {
     "data": {
      "text/plain": [
       "{'Obama': 'Hawaii',\n",
       " 'Clinton': 'Arkansas',\n",
       " 'Bush': 'Texas',\n",
       " 'Biden': 'Pennsylvania',\n",
       " 'Harding': 'Pennsylvania',\n",
       " 'Parrish': 'Utah'}"
      ]
     },
     "execution_count": 79,
     "metadata": {},
     "output_type": "execute_result"
    }
   ],
   "source": [
    "presidents"
   ]
  },
  {
   "cell_type": "code",
   "execution_count": 81,
   "id": "872487d5",
   "metadata": {},
   "outputs": [],
   "source": [
    "word_counts = {}"
   ]
  },
  {
   "cell_type": "code",
   "execution_count": 105,
   "id": "7c8406c6",
   "metadata": {},
   "outputs": [],
   "source": [
    "text = \"I am what I am said the guy who am what he was\""
   ]
  },
  {
   "cell_type": "code",
   "execution_count": 106,
   "id": "7e9070a4",
   "metadata": {},
   "outputs": [],
   "source": [
    "words = text.split()"
   ]
  },
  {
   "cell_type": "code",
   "execution_count": 107,
   "id": "8dd8b661",
   "metadata": {},
   "outputs": [
    {
     "data": {
      "text/plain": [
       "['I',\n",
       " 'am',\n",
       " 'what',\n",
       " 'I',\n",
       " 'am',\n",
       " 'said',\n",
       " 'the',\n",
       " 'guy',\n",
       " 'who',\n",
       " 'am',\n",
       " 'what',\n",
       " 'he',\n",
       " 'was']"
      ]
     },
     "execution_count": 107,
     "metadata": {},
     "output_type": "execute_result"
    }
   ],
   "source": [
    "words"
   ]
  },
  {
   "cell_type": "markdown",
   "id": "7c3182ef",
   "metadata": {},
   "source": [
    "end up with: \n",
    "    {'i': 2, 'am': 3, \"what:\": 2 ... }"
   ]
  },
  {
   "cell_type": "code",
   "execution_count": 109,
   "id": "2fabe0ed",
   "metadata": {},
   "outputs": [],
   "source": [
    "word_count = {}\n",
    "\n",
    "for item in words: \n",
    "    if item in word_counts:\n",
    "        word_counts[item] = word_counts[item] + 1\n",
    "        \n",
    "    else:\n",
    "        word_counts[item] = 1"
   ]
  },
  {
   "cell_type": "code",
   "execution_count": 110,
   "id": "95494d19",
   "metadata": {},
   "outputs": [
    {
     "data": {
      "text/plain": [
       "{'I': 7,\n",
       " 'am': 9,\n",
       " 'what': 7,\n",
       " 'said': 4,\n",
       " 'the': 4,\n",
       " 'guy': 4,\n",
       " 'who': 4,\n",
       " 'is': 2,\n",
       " 'he': 4,\n",
       " 'was': 4}"
      ]
     },
     "execution_count": 110,
     "metadata": {},
     "output_type": "execute_result"
    }
   ],
   "source": [
    "word_counts"
   ]
  },
  {
   "cell_type": "code",
   "execution_count": 111,
   "id": "7359a7a7",
   "metadata": {},
   "outputs": [
    {
     "data": {
      "text/plain": [
       "False"
      ]
     },
     "execution_count": 111,
     "metadata": {},
     "output_type": "execute_result"
    }
   ],
   "source": [
    "129 in [4,5,6,7]"
   ]
  },
  {
   "cell_type": "code",
   "execution_count": 112,
   "id": "cad7ec98",
   "metadata": {},
   "outputs": [
    {
     "data": {
      "text/plain": [
       "True"
      ]
     },
     "execution_count": 112,
     "metadata": {},
     "output_type": "execute_result"
    }
   ],
   "source": [
    "4 in [4,5,6,7]"
   ]
  },
  {
   "cell_type": "code",
   "execution_count": 113,
   "id": "84fb8ae8",
   "metadata": {},
   "outputs": [
    {
     "data": {
      "text/plain": [
       "False"
      ]
     },
     "execution_count": 113,
     "metadata": {},
     "output_type": "execute_result"
    }
   ],
   "source": [
    "\"Louis XIV\" in presidents"
   ]
  },
  {
   "cell_type": "code",
   "execution_count": 114,
   "id": "3d799973",
   "metadata": {},
   "outputs": [
    {
     "data": {
      "text/plain": [
       "dict_keys(['Obama', 'Clinton', 'Bush', 'Biden', 'Harding', 'Parrish'])"
      ]
     },
     "execution_count": 114,
     "metadata": {},
     "output_type": "execute_result"
    }
   ],
   "source": [
    "presidents.keys()"
   ]
  },
  {
   "cell_type": "code",
   "execution_count": 115,
   "id": "1b0e07b3",
   "metadata": {},
   "outputs": [
    {
     "name": "stdout",
     "output_type": "stream",
     "text": [
      "President Obama is from Hawaii\n",
      "President Clinton is from Arkansas\n",
      "President Bush is from Texas\n",
      "President Biden is from Pennsylvania\n",
      "President Harding is from Pennsylvania\n",
      "President Parrish is from Utah\n"
     ]
    }
   ],
   "source": [
    "for item in presidents.keys():\n",
    "    print('President', item, 'is from', presidents[item])"
   ]
  },
  {
   "cell_type": "code",
   "execution_count": 116,
   "id": "b293fd98",
   "metadata": {},
   "outputs": [
    {
     "data": {
      "text/plain": [
       "dict_keys(['Obama', 'Clinton', 'Bush', 'Biden', 'Harding', 'Parrish'])"
      ]
     },
     "execution_count": 116,
     "metadata": {},
     "output_type": "execute_result"
    }
   ],
   "source": [
    "presidents.keys()"
   ]
  },
  {
   "cell_type": "code",
   "execution_count": 117,
   "id": "e77c3e12",
   "metadata": {},
   "outputs": [
    {
     "data": {
      "text/plain": [
       "dict_values(['Hawaii', 'Arkansas', 'Texas', 'Pennsylvania', 'Pennsylvania', 'Utah'])"
      ]
     },
     "execution_count": 117,
     "metadata": {},
     "output_type": "execute_result"
    }
   ],
   "source": [
    "presidents.values()"
   ]
  },
  {
   "cell_type": "markdown",
   "id": "d4ceacda",
   "metadata": {},
   "source": [
    "### Representing tabular data with dictionaries"
   ]
  },
  {
   "cell_type": "code",
   "execution_count": null,
   "id": "14c1df5a",
   "metadata": {},
   "outputs": [],
   "source": []
  },
  {
   "cell_type": "code",
   "execution_count": null,
   "id": "75438c54",
   "metadata": {},
   "outputs": [],
   "source": [
    "len(cities)"
   ]
  },
  {
   "cell_type": "code",
   "execution_count": null,
   "id": "31823aae",
   "metadata": {},
   "outputs": [],
   "source": [
    "cities[4]['population']"
   ]
  },
  {
   "cell_type": "code",
   "execution_count": null,
   "id": "74840f3a",
   "metadata": {},
   "outputs": [],
   "source": [
    "sum([item['population'] for item in cities])"
   ]
  },
  {
   "cell_type": "code",
   "execution_count": null,
   "id": "01e0cc65",
   "metadata": {},
   "outputs": [],
   "source": [
    "cities_other_way= {\n",
    "    'city': ['New York', 'Los Angeles', 'Chicago'],\n",
    "    'state': ['New York', 'California', 'Illinois'],\n",
    "    'population': [8461961, 3918872, 2714017]\n",
    "}"
   ]
  },
  {
   "cell_type": "code",
   "execution_count": null,
   "id": "877150cd",
   "metadata": {},
   "outputs": [],
   "source": [
    "df.to_json()"
   ]
  }
 ],
 "metadata": {
  "kernelspec": {
   "display_name": "Python 3 (ipykernel)",
   "language": "python",
   "name": "python3"
  },
  "language_info": {
   "codemirror_mode": {
    "name": "ipython",
    "version": 3
   },
   "file_extension": ".py",
   "mimetype": "text/x-python",
   "name": "python",
   "nbconvert_exporter": "python",
   "pygments_lexer": "ipython3",
   "version": "3.11.4"
  }
 },
 "nbformat": 4,
 "nbformat_minor": 5
}
